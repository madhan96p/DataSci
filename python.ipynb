{
  "cells": [
    {
      "cell_type": "markdown",
      "metadata": {},
      "source": [
        "# Class 1 - D1"
      ]
    },
    {
      "cell_type": "code",
      "execution_count": 1,
      "metadata": {
        "colab": {
          "base_uri": "https://localhost:8080/"
        },
        "id": "WnAYzXvbORtb",
        "outputId": "25e04939-c090-4752-bb6d-98051cd8ecc4"
      },
      "outputs": [
        {
          "name": "stdout",
          "output_type": "stream",
          "text": [
            "Hey I'm Madhan\n"
          ]
        }
      ],
      "source": [
        "print(\"Hey I'm Madhan\")"
      ]
    },
    {
      "cell_type": "code",
      "execution_count": 2,
      "metadata": {
        "colab": {
          "base_uri": "https://localhost:8080/"
        },
        "id": "2tDTxqY7OW7n",
        "outputId": "b7adc6f6-91bc-45a8-ab05-7c87977ce29f"
      },
      "outputs": [
        {
          "name": "stdout",
          "output_type": "stream",
          "text": [
            "4\n"
          ]
        }
      ],
      "source": [
        "print(2+2)"
      ]
    },
    {
      "cell_type": "code",
      "execution_count": 3,
      "metadata": {
        "colab": {
          "base_uri": "https://localhost:8080/"
        },
        "id": "wcGqZ8yaU5jo",
        "outputId": "32b21f37-4b5d-4473-ae00-a28b74f47389"
      },
      "outputs": [
        {
          "name": "stdout",
          "output_type": "stream",
          "text": [
            "13\n"
          ]
        }
      ],
      "source": [
        "a=3\n",
        "b=10\n",
        "print(a+b)"
      ]
    },
    {
      "cell_type": "markdown",
      "metadata": {},
      "source": [
        "# Class 2 - D1"
      ]
    },
    {
      "cell_type": "code",
      "execution_count": 20,
      "metadata": {},
      "outputs": [
        {
          "data": {
            "text/html": [
              "<div>\n",
              "<style scoped>\n",
              "    .dataframe tbody tr th:only-of-type {\n",
              "        vertical-align: middle;\n",
              "    }\n",
              "\n",
              "    .dataframe tbody tr th {\n",
              "        vertical-align: top;\n",
              "    }\n",
              "\n",
              "    .dataframe thead th {\n",
              "        text-align: right;\n",
              "    }\n",
              "</style>\n",
              "<table border=\"1\" class=\"dataframe\">\n",
              "  <thead>\n",
              "    <tr style=\"text-align: right;\">\n",
              "      <th></th>\n",
              "      <th>Col 1</th>\n",
              "      <th>Col 2</th>\n",
              "      <th>Col 3</th>\n",
              "      <th>Col 4</th>\n",
              "      <th>Col 5</th>\n",
              "    </tr>\n",
              "  </thead>\n",
              "  <tbody>\n",
              "    <tr>\n",
              "      <th>0</th>\n",
              "      <td>False</td>\n",
              "      <td>None</td>\n",
              "      <td>True</td>\n",
              "      <td>and</td>\n",
              "      <td>as</td>\n",
              "    </tr>\n",
              "    <tr>\n",
              "      <th>1</th>\n",
              "      <td>assert</td>\n",
              "      <td>async</td>\n",
              "      <td>await</td>\n",
              "      <td>break</td>\n",
              "      <td>class</td>\n",
              "    </tr>\n",
              "    <tr>\n",
              "      <th>2</th>\n",
              "      <td>continue</td>\n",
              "      <td>def</td>\n",
              "      <td>del</td>\n",
              "      <td>elif</td>\n",
              "      <td>else</td>\n",
              "    </tr>\n",
              "    <tr>\n",
              "      <th>3</th>\n",
              "      <td>except</td>\n",
              "      <td>finally</td>\n",
              "      <td>for</td>\n",
              "      <td>from</td>\n",
              "      <td>global</td>\n",
              "    </tr>\n",
              "    <tr>\n",
              "      <th>4</th>\n",
              "      <td>if</td>\n",
              "      <td>import</td>\n",
              "      <td>in</td>\n",
              "      <td>is</td>\n",
              "      <td>lambda</td>\n",
              "    </tr>\n",
              "    <tr>\n",
              "      <th>5</th>\n",
              "      <td>nonlocal</td>\n",
              "      <td>not</td>\n",
              "      <td>or</td>\n",
              "      <td>pass</td>\n",
              "      <td>raise</td>\n",
              "    </tr>\n",
              "    <tr>\n",
              "      <th>6</th>\n",
              "      <td>return</td>\n",
              "      <td>try</td>\n",
              "      <td>while</td>\n",
              "      <td>with</td>\n",
              "      <td>yield</td>\n",
              "    </tr>\n",
              "  </tbody>\n",
              "</table>\n",
              "</div>"
            ],
            "text/plain": [
              "      Col 1    Col 2  Col 3  Col 4   Col 5\n",
              "0     False     None   True    and      as\n",
              "1    assert    async  await  break   class\n",
              "2  continue      def    del   elif    else\n",
              "3    except  finally    for   from  global\n",
              "4        if   import     in     is  lambda\n",
              "5  nonlocal      not     or   pass   raise\n",
              "6    return      try  while   with   yield"
            ]
          },
          "execution_count": 20,
          "metadata": {},
          "output_type": "execute_result"
        }
      ],
      "source": [
        "import keyword\n",
        "import pandas as pd\n",
        "\n",
        "# Display the keywords in a formatted way\n",
        "keywords = keyword.kwlist\n",
        "\n",
        "# Arrange keywords into 5 columns for better display\n",
        "num_columns = 5\n",
        "\n",
        "# Calculate number of rows needed\n",
        "num_rows = -(-len(keywords) // num_columns)  # Ceiling division\n",
        "\n",
        "# Pad the list with empty strings if needed to fill all columns\n",
        "padded_keywords = keywords + [\"\"] * (num_rows * num_columns - len(keywords))\n",
        "\n",
        "# Reshape into a 2D list\n",
        "reshaped_keywords = [padded_keywords[i:i + num_columns] for i in range(0, len(padded_keywords), num_columns)]\n",
        "\n",
        "# Create DataFrame\n",
        "df_keywords_reshaped = pd.DataFrame(reshaped_keywords, columns=[f\"Col {i+1}\" for i in range(num_columns)])\n",
        "df_keywords_reshaped\n"
      ]
    },
    {
      "cell_type": "markdown",
      "metadata": {},
      "source": [
        "*Reshape into a 2D list*\n",
        "\n",
        "\n",
        "reshaped_keywords = [padded_keywords[i:i + num_columns] for i in range(0, len(padded_keywords), num_columns)]"
      ]
    },
    {
      "cell_type": "code",
      "execution_count": 25,
      "metadata": {},
      "outputs": [
        {
          "data": {
            "text/plain": [
              "[['False', 'None', 'True', 'and'],\n",
              " ['as', 'assert', 'async', 'await'],\n",
              " ['break', 'class', 'continue', 'def'],\n",
              " ['del', 'elif', 'else', 'except'],\n",
              " ['finally', 'for', 'from', 'global'],\n",
              " ['if', 'import', 'in', 'is'],\n",
              " ['lambda', 'nonlocal', 'not', 'or'],\n",
              " ['pass', 'raise', 'return', 'try'],\n",
              " ['while', 'with', 'yield']]"
            ]
          },
          "execution_count": 25,
          "metadata": {},
          "output_type": "execute_result"
        }
      ],
      "source": [
        "# Step 1: Initialize an empty list to store the reshaped keywords\n",
        "reshaped_keywords = []\n",
        "\n",
        "# Step 2: Iterate over the padded_keywords list in steps of 'num_columns' (5)\n",
        "for i in range(0, len(padded_keywords), num_columns):\n",
        "    # i will take values: 0, 5, 10, 15, 20, 25, 30 (based on range(start, stop, step))\n",
        "\n",
        "    # Step 3: Take a slice from 'padded_keywords' starting at index i and ending at i + num_columns (i.e., i + 5)\n",
        "    # This will get a sublist with 'num_columns' elements (5 elements per slice)\n",
        "    row = padded_keywords[i:i + num_columns]\n",
        "    \n",
        "    # Step 4: Append the current slice (row) to the 'reshaped_keywords' list\n",
        "    reshaped_keywords.append(row)\n",
        "\n",
        "reshaped_keywords\n"
      ]
    },
    {
      "cell_type": "markdown",
      "metadata": {},
      "source": [
        "df_keywords_reshaped = pd.DataFrame(reshaped_keywords, columns=[f\"Col {i+1}\" for i in range(num_columns)])"
      ]
    },
    {
      "cell_type": "code",
      "execution_count": 24,
      "metadata": {},
      "outputs": [
        {
          "name": "stdout",
          "output_type": "stream",
          "text": [
            "['Col 1', 'Col 2', 'Col 3', 'Col 4']\n"
          ]
        }
      ],
      "source": [
        "Col=[]\n",
        "for i in range(num_columns):\n",
        "    Col.append(f\"Col {i+1}\")\n",
        "\n",
        "print(Col)"
      ]
    },
    {
      "cell_type": "code",
      "execution_count": 4,
      "metadata": {
        "colab": {
          "base_uri": "https://localhost:8080/"
        },
        "id": "PL5aFAooVQKu",
        "outputId": "4b82f553-4149-4a63-f237-7f27958fd05f"
      },
      "outputs": [
        {
          "name": "stdout",
          "output_type": "stream",
          "text": [
            "hi Madhan you have successfully logged in\n"
          ]
        }
      ],
      "source": [
        "name=input(\"enter your name\")\n",
        "psw=input(\"enter your password\")\n",
        "print(\"hi \" + name, \"you have successfully logged in\")"
      ]
    },
    {
      "cell_type": "code",
      "execution_count": 5,
      "metadata": {
        "colab": {
          "base_uri": "https://localhost:8080/"
        },
        "id": "32KDJSdqVm_C",
        "outputId": "0d78950c-9226-46c4-aef1-95ced2c1aef9"
      },
      "outputs": [
        {
          "name": "stdout",
          "output_type": "stream",
          "text": [
            "-695\n",
            "-2\n",
            "72\n",
            "5.0\n",
            "0\n",
            "27\n",
            "2\n"
          ]
        }
      ],
      "source": [
        "print(2+5-9*78)\n",
        "print(4-6)\n",
        "print(8*9)\n",
        "print(10/2)\n",
        "print(10%2)\n",
        "print(3**3)\n",
        "print(11//5)"
      ]
    },
    {
      "cell_type": "code",
      "execution_count": 6,
      "metadata": {
        "colab": {
          "base_uri": "https://localhost:8080/"
        },
        "id": "HLWh28VQdzFh",
        "outputId": "8e6ee625-e041-430d-d6af-74fde66721e8"
      },
      "outputs": [
        {
          "name": "stdout",
          "output_type": "stream",
          "text": [
            "x == y: False\n",
            "x != y: True\n",
            "x > y: True\n",
            "x < y: False\n",
            "x >= y: True\n",
            "x <= y: False\n"
          ]
        }
      ],
      "source": [
        "\n",
        "\n",
        "# Comparison Operators\n",
        "x = 10\n",
        "y = 5\n",
        "\n",
        "# Equal to (==)\n",
        "print(\"x == y:\", x == y)  # False\n",
        "\n",
        "# Not equal to (!=)\n",
        "print(\"x != y:\", x != y)  # True\n",
        "\n",
        "# Greater than (>)\n",
        "print(\"x > y:\", x > y)  # True\n",
        "\n",
        "# Less than (<)\n",
        "print(\"x < y:\", x < y)  # False\n",
        "\n",
        "# Greater than or equal to (>=)\n",
        "print(\"x >= y:\", x >= y)  # True\n",
        "\n",
        "# Less than or equal to (<=)\n",
        "print(\"x <= y:\", x <= y)  # False"
      ]
    },
    {
      "cell_type": "code",
      "execution_count": null,
      "metadata": {
        "colab": {
          "base_uri": "https://localhost:8080/"
        },
        "id": "Z1dvL3N6Tb2Q",
        "outputId": "3bb5f867-1c51-4353-e934-f070c893716b"
      },
      "outputs": [
        {
          "name": "stdout",
          "output_type": "stream",
          "text": [
            "True\n",
            "True\n",
            "True\n",
            "False\n",
            "True\n",
            "False\n",
            "False\n",
            "False\n"
          ]
        }
      ],
      "source": [
        "#LOGICAL OPERATORS\n",
        "\n",
        "print(True or True)\n",
        "print(True or False)\n",
        "print(False or True)\n",
        "print(False or False)\n",
        "\n",
        "print(True and True)\n",
        "print(True and False)\n",
        "print(False and True)\n",
        "print(False and False)"
      ]
    },
    {
      "cell_type": "code",
      "execution_count": 22,
      "metadata": {},
      "outputs": [
        {
          "data": {
            "text/plain": [
              "-7"
            ]
          },
          "execution_count": 22,
          "metadata": {},
          "output_type": "execute_result"
        }
      ],
      "source": [
        "num_columns = 4\n",
        "num_rows * num_columns - len(keywords)"
      ]
    },
    {
      "cell_type": "code",
      "execution_count": null,
      "metadata": {
        "colab": {
          "base_uri": "https://localhost:8080/"
        },
        "id": "fJH7rLhjWIFy",
        "outputId": "7cf0d6b1-a838-4640-e9ac-48b37d011b13"
      },
      "outputs": [
        {
          "name": "stdout",
          "output_type": "stream",
          "text": [
            "False\n",
            "True\n",
            "False\n",
            "True\n"
          ]
        }
      ],
      "source": [
        "print(not True)\n",
        "print(not False)\n",
        "\n",
        "print(False or True and not True)\n",
        "print(True or False and False and True)"
      ]
    },
    {
      "cell_type": "code",
      "execution_count": null,
      "metadata": {
        "colab": {
          "base_uri": "https://localhost:8080/"
        },
        "id": "jOhg5sMtXpcZ",
        "outputId": "dc92cad4-a568-4ef0-f069-c004a2419fe7"
      },
      "outputs": [
        {
          "name": "stdout",
          "output_type": "stream",
          "text": [
            "True\n"
          ]
        }
      ],
      "source": [
        "print(True or False and not False)"
      ]
    },
    {
      "cell_type": "markdown",
      "metadata": {},
      "source": [
        "# Class 3 - D2"
      ]
    },
    {
      "cell_type": "markdown",
      "metadata": {
        "id": "-JFqmWhpVq_e"
      },
      "source": [
        "## prompt: list down all the inbuilt functions in python\n",
        "\n",
        "Okay, let's identify the built-in functions used in your provided Python code snippet:\n",
        "\n",
        "\n",
        "*   **`print()`:**  Used to display output to the console.\n",
        "*   **`input()`:** Used to take user input from the console.\n",
        "*   **`keyword.kwlist`:** This is a list of all keywords in Python provided by the `keyword` module, it is not a function, but an attribute.\n",
        "\n",
        "\n",
        "\n",
        "**Built-in Functions in General:**\n",
        "\n",
        "It's important to note that the code snippet only uses a small subset of the many built-in functions available in Python. Some other common examples include:\n",
        "\n",
        "*   **`len()`:** Returns the length of an object (string, list, tuple, etc.).\n",
        "*   **`type()`:** Returns the type of an object.\n",
        "*   **`str()`:** Converts an object to a string.\n",
        "*   `int()`: Converts a string to an integer.\n",
        "*   `float()`: Converts a string to a float.\n",
        "*   `list()`: Converts an iterable to a list.\n",
        "*   `tuple()`: Converts an iterable to a tuple.\n",
        "*   `range()`: Creates a sequence of numbers.\n",
        "*   `sum()`: Adds elements of an iterable.\n",
        "*   `min()`: Returns the minimum element of an iterable.\n",
        "*   `max()`: Returns the maximum element of an iterable.\n",
        "*   `abs()`: Returns the absolute value of a number.\n",
        "*   `round()`: Rounds a number to a specified number of decimal places.\n",
        "\n",
        "\n",
        "\n",
        "By understanding built-in functions, you can write more concise and efficient Python code."
      ]
    },
    {
      "cell_type": "code",
      "execution_count": 1,
      "metadata": {
        "colab": {
          "base_uri": "https://localhost:8080/"
        },
        "id": "jaB7uTU1YkIU",
        "outputId": "9c92ddf6-48eb-4582-e1bf-ee5d50e75439"
      },
      "outputs": [
        {
          "name": "stdout",
          "output_type": "stream",
          "text": [
            "fail\n"
          ]
        }
      ],
      "source": [
        "a=input(\"username\")\n",
        "b=input(\"passowrd\")\n",
        "\n",
        "if a and b:\n",
        "  print(\"success\")\n",
        "else:\n",
        "  print(\"fail\")"
      ]
    },
    {
      "cell_type": "code",
      "execution_count": null,
      "metadata": {
        "colab": {
          "base_uri": "https://localhost:8080/"
        },
        "id": "ZTt1pBbQYzN-",
        "outputId": "46924719-83b0-4c69-8f2e-b86568591338"
      },
      "outputs": [
        {
          "data": {
            "text/plain": [
              "False"
            ]
          },
          "execution_count": 2,
          "metadata": {},
          "output_type": "execute_result"
        }
      ],
      "source": [
        "0 and 1\n",
        "\"a\" or \"Madhan\"\n",
        "7 and 8\n",
        "True and False"
      ]
    },
    {
      "cell_type": "code",
      "execution_count": 3,
      "metadata": {
        "colab": {
          "base_uri": "https://localhost:8080/"
        },
        "id": "awielBGWZBZV",
        "outputId": "a949d815-6a23-446f-f6fe-ef67e4048eda"
      },
      "outputs": [
        {
          "name": "stdout",
          "output_type": "stream",
          "text": [
            "abcd\n",
            "abcd\n",
            "abcd\n",
            "abcd\n"
          ]
        }
      ],
      "source": [
        "print(\"abcd\")\n",
        "print('abcd')\n",
        "print('''abcd''')\n",
        "print(\"\"\"abcd\"\"\")\n",
        "\n"
      ]
    },
    {
      "cell_type": "code",
      "execution_count": 4,
      "metadata": {
        "colab": {
          "base_uri": "https://localhost:8080/"
        },
        "id": "oE-6Ky-AasyM",
        "outputId": "d057190a-16c5-42ad-e058-28148906f5d3"
      },
      "outputs": [
        {
          "name": "stdout",
          "output_type": "stream",
          "text": [
            "true\n"
          ]
        }
      ],
      "source": [
        "#conditions\n",
        "\n",
        "\n",
        "if True :\n",
        "  print(\"true\")\n",
        "else:\n",
        "  print(\"false\")\n",
        "\n"
      ]
    },
    {
      "cell_type": "code",
      "execution_count": 5,
      "metadata": {
        "colab": {
          "base_uri": "https://localhost:8080/"
        },
        "id": "9XKkji1adPAQ",
        "outputId": "b17e0de6-166f-4831-9d70-4dcc377d3c07"
      },
      "outputs": [
        {
          "name": "stdout",
          "output_type": "stream",
          "text": [
            "false\n"
          ]
        }
      ],
      "source": [
        "\n",
        "if False:\n",
        "  print(\"true\")\n",
        "else:\n",
        "  print(\"false\")"
      ]
    },
    {
      "cell_type": "code",
      "execution_count": 6,
      "metadata": {
        "colab": {
          "base_uri": "https://localhost:8080/"
        },
        "id": "vVfBzvfHdQOZ",
        "outputId": "b2b9038b-c732-42f7-a0cd-f924464dda73"
      },
      "outputs": [
        {
          "name": "stdout",
          "output_type": "stream",
          "text": [
            "success\n"
          ]
        }
      ],
      "source": [
        "a=input(\"username\")\n",
        "b=input(\"passowrd\")\n",
        "\n",
        "if a == b:\n",
        "  print(\"success\")\n",
        "else:\n",
        "  print(\"fail\")"
      ]
    },
    {
      "cell_type": "markdown",
      "metadata": {},
      "source": [
        "**ATM System Summary**\n",
        "User inputs name, card number, and PIN. Options: Balance (B), Deposit (D), Withdraw (W). Error handling for invalid inputs."
      ]
    },
    {
      "cell_type": "code",
      "execution_count": 7,
      "metadata": {},
      "outputs": [
        {
          "name": "stdout",
          "output_type": "stream",
          "text": [
            "Welcome to the ATM\n",
            "Invalid card number. It must be 16 digits.\n"
          ]
        }
      ],
      "source": [
        "print(\"Welcome to the ATM\")\n",
        "User_name = input(\"Enter your name: \")\n",
        "User_card_number = input(\"Enter your card number: \")\n",
        "\n",
        "User_balance = 1000\n",
        "Minimum_balance = 500\n",
        "\n",
        "if len(User_card_number) == 16:\n",
        "    print(\"Welcome to the ATM, \" + User_name)\n",
        "    User_pin = input(\"Enter your pin: \")\n",
        "    \n",
        "    if User_pin == \"1482\":\n",
        "        print(\"You're welcome\", User_name)\n",
        "        User_choice = input(\"Would you like to Withdraw (W), Deposit (D), or Check Balance (B): \").upper()\n",
        "        \n",
        "        if User_choice == \"B\":\n",
        "            print(\"Your Balance is:\", User_balance)\n",
        "\n",
        "        elif User_choice == \"D\":\n",
        "            depo_amt = int(input(\"Enter amount to deposit: \"))    \n",
        "            User_balance += depo_amt\n",
        "            print(\"Amount deposited. Current balance:\", User_balance)\n",
        "\n",
        "        elif User_choice == \"W\":\n",
        "            withdraw_amt = int(input(\"Enter amount to withdraw: \"))\n",
        "\n",
        "            if withdraw_amt > User_balance:\n",
        "                print(\"❌ Insufficient funds. Your current balance is:\", User_balance)\n",
        "\n",
        "            elif (User_balance - withdraw_amt) < Minimum_balance:\n",
        "                print(\"⚠️ Withdrawal denied. You must maintain a minimum balance of:\", Minimum_balance)\n",
        "\n",
        "            else:\n",
        "                User_balance -= withdraw_amt\n",
        "                print(\"✅ Withdrawal successful. Amount withdrawn:\", withdraw_amt)\n",
        "                print(\"💰 Remaining balance:\", User_balance)\n",
        "\n",
        "        else: \n",
        "            print(\"Invalid input. Please choose W, D, or B.\")\n",
        "    else: \n",
        "        print(\"Incorrect PIN.\")\n",
        "else:\n",
        "    print(\"Invalid card number. It must be 16 digits.\")\n"
      ]
    },
    {
      "cell_type": "markdown",
      "metadata": {},
      "source": [
        "# Class 4 - D2"
      ]
    },
    {
      "cell_type": "code",
      "execution_count": null,
      "metadata": {
        "colab": {
          "base_uri": "https://localhost:8080/"
        },
        "id": "qRXGcJqRhEVm",
        "outputId": "264f31ed-32bb-405b-cd8e-599db6df1b8a"
      },
      "outputs": [
        {
          "name": "stdout",
          "output_type": "stream",
          "text": [
            "MADHAN\n"
          ]
        }
      ],
      "source": [
        "#loops\n",
        "\n",
        "print(\"\".join(x.upper() for x in \"Madhan\"))\n"
      ]
    },
    {
      "cell_type": "code",
      "execution_count": 18,
      "metadata": {
        "colab": {
          "base_uri": "https://localhost:8080/"
        },
        "id": "9mFy_ywQhHHA",
        "outputId": "f808f28f-9567-47b6-aedd-65588405dd6f"
      },
      "outputs": [
        {
          "name": "stdout",
          "output_type": "stream",
          "text": [
            "0\n",
            "hello\n",
            "1\n",
            "hello\n",
            "2\n",
            "hello\n",
            "3\n",
            "hello\n",
            "4\n",
            "hello\n"
          ]
        }
      ],
      "source": [
        "a=0\n",
        "\n",
        "while a<10:\n",
        "  print(a)\n",
        "  a=a+1\n",
        "  print(\"hello\")\n",
        "  if a==5:\n",
        "    break\n",
        "  "
      ]
    },
    {
      "cell_type": "code",
      "execution_count": null,
      "metadata": {
        "colab": {
          "base_uri": "https://localhost:8080/"
        },
        "id": "Vw_SLCb9hlZP",
        "outputId": "2758bbd2-144c-40c0-f7d5-15e3bd2dd579"
      },
      "outputs": [
        {
          "name": "stdout",
          "output_type": "stream",
          "text": [
            "0\n",
            "0\n",
            "1\n",
            "2\n",
            "3\n",
            "4\n",
            "1\n",
            "2\n",
            "3\n",
            "4\n"
          ]
        }
      ],
      "source": [
        "a=0\n",
        "b=0\n",
        "while a<5:\n",
        "  print(a)\n",
        "  a=a+1\n",
        "  while b<5:\n",
        "    print(b)\n",
        "    b=b+1"
      ]
    },
    {
      "cell_type": "code",
      "execution_count": null,
      "metadata": {
        "colab": {
          "base_uri": "https://localhost:8080/"
        },
        "id": "vkk9hwjkmW6E",
        "outputId": "7c2d7aab-24d7-4abf-cb11-b06bc1dae665"
      },
      "outputs": [
        {
          "name": "stdout",
          "output_type": "stream",
          "text": [
            "0 0\n",
            "0 1\n",
            "0 2\n",
            "1 0\n",
            "1 1\n",
            "1 2\n",
            "2 0\n",
            "2 1\n",
            "2 2\n",
            "3 0\n",
            "3 1\n",
            "3 2\n",
            "4 0\n",
            "4 1\n",
            "4 2\n"
          ]
        }
      ],
      "source": [
        "for i in range(0,5):\n",
        "  for j in range(0,3):\n",
        "    print(i,j)\n"
      ]
    },
    {
      "cell_type": "code",
      "execution_count": 31,
      "metadata": {
        "colab": {
          "base_uri": "https://localhost:8080/",
          "height": 180
        },
        "id": "dxzvrwxgtct_",
        "outputId": "65191e14-f2e5-4de2-a207-46a78fc6fa93"
      },
      "outputs": [
        {
          "name": "stdout",
          "output_type": "stream",
          "text": [
            "rajini khant\n",
            "kamal hassan\n",
            "alia bhatt\n"
          ]
        }
      ],
      "source": [
        "for i in [\"rajini\",\"kamal\",\"alia\"]:\n",
        "  for j in [\"khant\",\"hassan\",\"bhatt\"]:\n",
        "    A = [\"rajini\",\"kamal\",\"alia\"].index(i)\n",
        "    B = [\"khant\",\"hassan\",\"bhatt\"].index(j)\n",
        "    if A == B:\n",
        "      print(i,j)"
      ]
    },
    {
      "cell_type": "code",
      "execution_count": 30,
      "metadata": {},
      "outputs": [
        {
          "data": {
            "text/plain": [
              "'khant'"
            ]
          },
          "execution_count": 30,
          "metadata": {},
          "output_type": "execute_result"
        }
      ],
      "source": [
        "B"
      ]
    },
    {
      "cell_type": "code",
      "execution_count": 23,
      "metadata": {
        "colab": {
          "base_uri": "https://localhost:8080/"
        },
        "id": "UqwaNdpKltVK",
        "outputId": "571e34ce-d7e1-4829-9713-b557e3105834"
      },
      "outputs": [
        {
          "name": "stdout",
          "output_type": "stream",
          "text": [
            "rajini kanth\n",
            "kamal hasan\n",
            "alia bhatt\n"
          ]
        }
      ],
      "source": [
        "a = 0\n",
        "for i in [\"rajini\", \"kamal\",\"alia\"]:\n",
        "    b = []\n",
        "    for j in [\"kanth\",\"hasan\",\"bhatt\"]:\n",
        "        b.append(j)\n",
        "    print(i,b[a])\n",
        "    a += 1\n"
      ]
    },
    {
      "cell_type": "code",
      "execution_count": null,
      "metadata": {
        "colab": {
          "base_uri": "https://localhost:8080/"
        },
        "id": "Cg4CRkeYl2Qr",
        "outputId": "103fb68a-cc34-41f2-e1a0-8632d658983b"
      },
      "outputs": [
        {
          "name": "stdout",
          "output_type": "stream",
          "text": [
            "rajini kanth\n",
            "kamal hasan\n",
            "alia bhatt\n"
          ]
        }
      ],
      "source": [
        "counteri=0\n",
        "for i in [\"rajini\",\"kamal\",\"alia\"]:\n",
        "  counterj=0\n",
        "  for j in [\"kanth\",\"hasan\",\"bhatt\"]:\n",
        "    if counteri==counterj:\n",
        "      print(i,j)\n",
        "    counterj=counterj+1\n",
        "  counteri= counteri+1\n"
      ]
    },
    {
      "cell_type": "code",
      "execution_count": null,
      "metadata": {
        "colab": {
          "base_uri": "https://localhost:8080/"
        },
        "id": "w90cwnKCmeWS",
        "outputId": "136c26f7-6807-4703-c56d-4188dc0b918d"
      },
      "outputs": [
        {
          "name": "stdout",
          "output_type": "stream",
          "text": [
            "rajini khant\n",
            "kamal hassan\n",
            "alia bhatt\n"
          ]
        }
      ],
      "source": [
        "First_name = [\"rajini\",\"kamal\",\"alia\"]\n",
        "Last_name = [\"khant\",\"hassan\",\"bhatt\"]\n",
        "for i, j in zip(First_name,Last_name):\n",
        "  print(i,j)\n"
      ]
    },
    {
      "cell_type": "code",
      "execution_count": null,
      "metadata": {
        "colab": {
          "base_uri": "https://localhost:8080/"
        },
        "id": "jLD6ZhiBmrDC",
        "outputId": "33d20df7-33df-41a1-8876-fbb1a9e1bafe"
      },
      "outputs": [
        {
          "name": "stdout",
          "output_type": "stream",
          "text": [
            "['rajini khant', 'kamal hassan', 'alia bhatt']\n"
          ]
        }
      ],
      "source": [
        "actor=[]\n",
        "for i in ['rajini','kamal','alia']:\n",
        "    for j in ['khant','hassan','bhatt']:\n",
        "        actor.append(i+\" \"+j)\n",
        "print(actor[0:9:4])"
      ]
    },
    {
      "cell_type": "markdown",
      "metadata": {},
      "source": [
        "# Class 5 - D3"
      ]
    },
    {
      "cell_type": "code",
      "execution_count": null,
      "metadata": {
        "colab": {
          "base_uri": "https://localhost:8080/"
        },
        "id": "vP_UTN4HxDAH",
        "outputId": "38fb6dec-dddb-46f3-afae-0e13edcc3128"
      },
      "outputs": [
        {
          "name": "stdout",
          "output_type": "stream",
          "text": [
            "TODAY IS WEDNESDAY\n",
            "today is wednesday\n",
            "Today is wednesday\n",
            "False\n",
            "True\n",
            "1\n",
            "-1\n",
            "3\n",
            "Today is Thursday\n",
            "True\n",
            "False\n",
            "TODAY IS WEDNESDAY\n"
          ]
        }
      ],
      "source": [
        "#string operation\n",
        "a=\"Today is Wednesday\"\n",
        "b=\"abcd123\"\n",
        "\n",
        "print(a.upper())\n",
        "print(a.lower())\n",
        "print(a.capitalize())\n",
        "\n",
        "print(a.isalpha())\n",
        "print(b.isalnum())\n",
        "print(a.count(\"is\"))\n",
        "print(a.find(\"z\"))\n",
        "print(a.index(\"is\"))\n",
        "print(a.replace(\"Wednesday\",\"Thursday\"))\n",
        "print(a.endswith(\"day\"))\n",
        "print(a.startswith(\"today\"))\n",
        "c=a.upper()\n",
        "print(c)\n"
      ]
    },
    {
      "cell_type": "code",
      "execution_count": null,
      "metadata": {
        "colab": {
          "base_uri": "https://localhost:8080/"
        },
        "id": "l98tlrVA0TXX",
        "outputId": "892ef17e-6f7a-4dfb-fb7c-9bcee2f7fe82"
      },
      "outputs": [
        {
          "name": "stdout",
          "output_type": "stream",
          "text": [
            "6\n",
            "['Today', 'is', 'Wednesday']\n",
            "Today is Wednesday\n"
          ]
        }
      ],
      "source": [
        "a=\"Today is Wednesday\"\n",
        "print(a.index(\"is\"))\n",
        "#print(c.isupper())\n",
        "#print(c.islower())\n",
        "print(a.split())\n",
        "c=a.split()\n",
        "print(\" \".join(c))"
      ]
    },
    {
      "cell_type": "code",
      "execution_count": null,
      "metadata": {
        "colab": {
          "base_uri": "https://localhost:8080/"
        },
        "id": "6yTjpcngsZt2",
        "outputId": "03cbc9ce-5a6c-4916-c338-7a5cdce63bf3"
      },
      "outputs": [
        {
          "name": "stdout",
          "output_type": "stream",
          "text": [
            "1$2$3$4\n"
          ]
        }
      ],
      "source": [
        "a=[\"1\",\"2\",\"3\",\"4\"]\n",
        "print(\"$\".join(a))\n",
        "\n"
      ]
    },
    {
      "cell_type": "code",
      "execution_count": 8,
      "metadata": {
        "colab": {
          "base_uri": "https://localhost:8080/"
        },
        "id": "eUy-Nis8vQVl",
        "outputId": "e60807fc-e3f5-4eff-9743-66e91094d7e8"
      },
      "outputs": [
        {
          "name": "stdout",
          "output_type": "stream",
          "text": [
            "\\n how are \\n malai?\n",
            "\n",
            "how \n",
            "are \n",
            "malai?\n",
            " \n",
            "{a} is a Bad guy\n",
            "Maddy is a Bad guy\n"
          ]
        }
      ],
      "source": [
        "a=\"Maddy\"\n",
        "print(r\"\\n how are \\n malai?\")\n",
        "print(f\"\\nhow \\nare \\nmalai?\\n \")\n",
        "print(r\"{a} is a Bad guy\")\n",
        "print(f\"{a} is a Bad guy\")"
      ]
    },
    {
      "cell_type": "code",
      "execution_count": null,
      "metadata": {
        "colab": {
          "base_uri": "https://localhost:8080/"
        },
        "id": "OKR6GrMgwv6O",
        "outputId": "c9716b62-2779-4784-d0fb-d47459f28355"
      },
      "outputs": [
        {
          "name": "stdout",
          "output_type": "stream",
          "text": [
            "today is t\n",
            "today is t\n",
            "ay is thursday\n",
            "tdyi \n",
            "tdyi hrdy\n",
            "yadsruht si yadoT\n"
          ]
        }
      ],
      "source": [
        "a=\"today is thursday\"\n",
        "\n",
        "print(a[0:10])\n",
        "print(a[:10])\n",
        "print(a[3:])\n",
        "print(a[0:10:2])\n",
        "print(a[::2])\n",
        "print(a.capitalize()[::-1])"
      ]
    },
    {
      "cell_type": "code",
      "execution_count": 9,
      "metadata": {
        "colab": {
          "base_uri": "https://localhost:8080/"
        },
        "id": "9zKX80W30tL0",
        "outputId": "87e40ab2-3919-45a2-acaa-bd25b19ec6c4"
      },
      "outputs": [
        {
          "name": "stdout",
          "output_type": "stream",
          "text": [
            "[1, 1.2342, 'Madhan', [1, 2, 3]]\n",
            "1\n",
            "2\n",
            "[1, 1.2342, 'Madhan']\n"
          ]
        }
      ],
      "source": [
        "#list and its operations\n",
        "\n",
        "a=[\"today\",\"yesterday\",\"tomorrow\"]\n",
        "b=[1,1.2342,\"Madhan\",[1,2,3]]\n",
        "print(b)\n",
        "\n",
        "print(b[0])\n",
        "print(b[3][1])\n",
        "print(b[0:3])\n"
      ]
    },
    {
      "cell_type": "code",
      "execution_count": 19,
      "metadata": {
        "colab": {
          "base_uri": "https://localhost:8080/"
        },
        "id": "LsgInBs6354W",
        "outputId": "d2a4c125-2537-44f6-abb6-a7499ea3bc1d"
      },
      "outputs": [
        {
          "name": "stdout",
          "output_type": "stream",
          "text": [
            "0\n",
            "2\n",
            "[1, 'guviHCL', 2, \"Madhan's\", 'Mini work', 10121023, ['z', 'a', 'v', 'zim damak dhum dhum'], 1, 2, 'a', [1, 2, 3, 4]]\n",
            "[1, [1, 2, 3, 4], 2, \"Madhan's\", 'Mini work', 10121023, ['z', 'a', 'v', 'zim damak dhum dhum'], 1, 2, 'a', 'guviHCL']\n"
          ]
        }
      ],
      "source": [
        "a=[1,2]\n",
        "a.append(\"Madhan's\")\n",
        "a.append(\"Mini work\")\n",
        "a.append(10121023)\n",
        "a.append([\"z\",\"a\",\"v\"])\n",
        "a.extend([1,2,\"a\",[1,2,3,4]])\n",
        "a[5].append(\"zim damak dhum dhum\")\n",
        "print(a.count(\"guvi\"))\n",
        "a.insert(1,\"guviHCL\")\n",
        "print(a[3].count(\"a\"))\n",
        "print(a)\n",
        "z=a[1]\n",
        "a[1]=a[10]\n",
        "a[10]=z\n",
        "print(a)"
      ]
    },
    {
      "cell_type": "code",
      "execution_count": null,
      "metadata": {},
      "outputs": [
        {
          "name": "stdout",
          "output_type": "stream",
          "text": [
            "Madhan'suviHCL\n",
            "[1, [1, 2, 3, 4], 2, \"Madhan's\", 'Mini work', 10121023, ['z', 'a', 'v', 'zim damak dhum dhum'], 1, 2, 'a', 'guviHCL']\n"
          ]
        }
      ],
      "source": [
        "print(a[10].replace(a[10][0], a[3]))\n",
        "print(a)\n",
        "d = a.remove(1)\n"
      ]
    },
    {
      "cell_type": "code",
      "execution_count": 21,
      "metadata": {},
      "outputs": [],
      "source": [
        "d"
      ]
    },
    {
      "cell_type": "code",
      "execution_count": null,
      "metadata": {
        "colab": {
          "base_uri": "https://localhost:8080/"
        },
        "id": "Hs_ApT4B7Zjn",
        "outputId": "5fa73295-0929-471d-ddce-16361ada4863"
      },
      "outputs": [
        {
          "name": "stdout",
          "output_type": "stream",
          "text": [
            "1\n",
            "1\n",
            "2\n",
            "3\n",
            "4\n"
          ]
        }
      ],
      "source": [
        "a=(1,2,3,4,\"Madhan\")\n",
        "print(a[0])\n",
        "\n",
        "a,b,c,d=(1,4,3,4)\n",
        "print(a)\n",
        "print(b)\n",
        "print(c)\n",
        "print(d)"
      ]
    },
    {
      "cell_type": "code",
      "execution_count": null,
      "metadata": {
        "colab": {
          "base_uri": "https://localhost:8080/"
        },
        "id": "bgBQBLhMA8cR",
        "outputId": "0cd8e865-d197-437e-e8de-956bf2374695"
      },
      "outputs": [
        {
          "name": "stdout",
          "output_type": "stream",
          "text": [
            "{1, 2, 3, 21, None}\n"
          ]
        }
      ],
      "source": [
        "#set\n",
        "\n",
        "a={1,1,2,2,2,21,3,2,3,1,2,None}\n",
        "print(a)"
      ]
    },
    {
      "cell_type": "code",
      "execution_count": null,
      "metadata": {
        "colab": {
          "base_uri": "https://localhost:8080/"
        },
        "id": "zpvSSMNiGyNK",
        "outputId": "766983d3-b59c-40f6-9c3b-1f24f3098477"
      },
      "outputs": [
        {
          "name": "stdout",
          "output_type": "stream",
          "text": [
            "nirmal nethaji\n"
          ]
        }
      ],
      "source": [
        "print(\"Madhan \" + \"s\")"
      ]
    },
    {
      "cell_type": "code",
      "execution_count": null,
      "metadata": {
        "colab": {
          "base_uri": "https://localhost:8080/"
        },
        "id": "9P6gdYAZCEJ0",
        "outputId": "2674630e-34fe-4ac1-cb32-7c763da64916"
      },
      "outputs": [
        {
          "name": "stdout",
          "output_type": "stream",
          "text": [
            "{'name': 'nirmal', 'lang': 'tamil', 'state': 'TN', 'date': '24/10/2024'}\n",
            "nirmal\n",
            "tamil\n",
            "{'name': 'nirmal', 'lang': ['tamil', 'hindi', 'english'], 'state': 'TN', 'date': '24/10/2024', 'name1': 'nethaji'}\n",
            "nirmal\n",
            "dict_keys(['name', 'lang', 'state', 'date', 'name1'])\n",
            "dict_values(['nirmal', ['tamil', 'hindi', 'english'], 'TN', '24/10/2024', 'nethaji'])\n",
            "dict_items([('name', 'nirmal'), ('lang', ['tamil', 'hindi', 'english']), ('state', 'TN'), ('date', '24/10/2024'), ('name1', 'nethaji')])\n",
            "dict_values(['nirmal', ['tamil', 'hindi', 'english'], 'TN', '24/10/2024', 'nethaji'])\n"
          ]
        }
      ],
      "source": [
        "a={\"name\":\"Madhan\",\"lang\":\"tamil\",\"state\":\"TN\",\"date\":\"24/10/2024\"}\n",
        "\n",
        "print(a)\n",
        "print(a['name'])\n",
        "print(a[\"lang\"])\n",
        "a[\"name1\"]='s'\n",
        "a[\"lang\"]=[\"tamil\",\"hindi\"]\n",
        "a[\"lang\"].append(\"english\")\n",
        "print(a)\n",
        "\n",
        "print(a.get(\"name\"))\n",
        "print(a.keys())\n",
        "print(a.values())\n",
        "print(a.items())\n",
        "\n",
        "v=a.values()\n",
        "print(v)\n",
        "#print(list(v).index(\"tamil\"))\n"
      ]
    },
    {
      "cell_type": "markdown",
      "metadata": {},
      "source": [
        "# Class 6 - D3"
      ]
    },
    {
      "cell_type": "code",
      "execution_count": 8,
      "metadata": {},
      "outputs": [
        {
          "name": "stdout",
          "output_type": "stream",
          "text": [
            "3\n"
          ]
        }
      ],
      "source": [
        "def addition(a,b):\n",
        "    ab = a + b\n",
        "    return ab\n",
        "A=1\n",
        "B=2\n",
        "sm = addition(A,B)\n",
        "print(sm)"
      ]
    },
    {
      "cell_type": "code",
      "execution_count": 9,
      "metadata": {},
      "outputs": [
        {
          "data": {
            "text/plain": [
              "''"
            ]
          },
          "execution_count": 9,
          "metadata": {},
          "output_type": "execute_result"
        }
      ],
      "source": [
        "a"
      ]
    },
    {
      "cell_type": "code",
      "execution_count": 47,
      "metadata": {
        "colab": {
          "base_uri": "https://localhost:8080/"
        },
        "id": "HoxPoZHwDGTu",
        "outputId": "5bcc72b4-3054-484d-ba6e-7f10352bcf0c"
      },
      "outputs": [
        {
          "name": "stdout",
          "output_type": "stream",
          "text": [
            "Madhan \n"
          ]
        }
      ],
      "source": [
        "#functions\n",
        "\n",
        "def guvi():\n",
        "  print(\"Madhan \")\n",
        "  return \"Madhan is a data scientist\"\n",
        "\n",
        "a=guvi()"
      ]
    },
    {
      "cell_type": "code",
      "execution_count": null,
      "metadata": {
        "colab": {
          "base_uri": "https://localhost:8080/",
          "height": 71
        },
        "id": "OAs58p3hz4wy",
        "outputId": "de49a750-7cb6-4949-8b48-9bb2b07351e0"
      },
      "outputs": [
        {
          "name": "stdout",
          "output_type": "stream",
          "text": [
            "12\n",
            "32\n"
          ]
        },
        {
          "data": {
            "application/vnd.google.colaboratory.intrinsic+json": {
              "type": "string"
            },
            "text/plain": [
              "'even'"
            ]
          },
          "execution_count": 27,
          "metadata": {},
          "output_type": "execute_result"
        }
      ],
      "source": [
        "def add(num1,num2):\n",
        "  return num1+num2\n",
        "\n",
        "\n",
        "def evenodd(num):\n",
        "  if num%2==0:\n",
        "    return \"even\"\n",
        "  else:\n",
        "    return \"odd\"\n",
        "\n",
        "a=add(int(input()),20)\n",
        "print(a)\n",
        "evenodd(add(10,20))\n"
      ]
    },
    {
      "cell_type": "code",
      "execution_count": null,
      "metadata": {
        "colab": {
          "base_uri": "https://localhost:8080/",
          "height": 35
        },
        "id": "2XIxufwezg9b",
        "outputId": "4d8c12fe-ee00-4d37-f3bb-7313b676691f"
      },
      "outputs": [
        {
          "data": {
            "application/vnd.google.colaboratory.intrinsic+json": {
              "type": "string"
            },
            "text/plain": [
              "'even'"
            ]
          },
          "execution_count": 21,
          "metadata": {},
          "output_type": "execute_result"
        }
      ],
      "source": [
        "def evenodd(n1,n2):\n",
        "  x=add(n1,n2)\n",
        "  if x%2==0:\n",
        "    return \"even\"\n",
        "  else:\n",
        "    return \"odd\"\n",
        "\n",
        "evenodd(10,20)"
      ]
    },
    {
      "cell_type": "code",
      "execution_count": 10,
      "metadata": {},
      "outputs": [
        {
          "name": "stdout",
          "output_type": "stream",
          "text": [
            "Welcome\n",
            "Hello from inner function\n"
          ]
        }
      ],
      "source": [
        "def greet(func):\n",
        "    print(\"Welcome\")\n",
        "    func()\n",
        "\n",
        "def say_hello():\n",
        "    print(\"Hello from inner function\")\n",
        "\n",
        "greet(say_hello)\n"
      ]
    },
    {
      "cell_type": "code",
      "execution_count": null,
      "metadata": {
        "colab": {
          "base_uri": "https://localhost:8080/"
        },
        "id": "wEQtB_IEzraO",
        "outputId": "b131b313-7a7e-4c70-e17d-ebbbcf09e7c5"
      },
      "outputs": [
        {
          "name": "stdout",
          "output_type": "stream",
          "text": [
            "hi guvi your age is 14 ,today is 25\n",
            "hi nirmal your age is 14 ,today is 20\n",
            "hi nirmal your age is 790 ,today is 2010\n",
            "hi nirmal your age is 14 ,today is 1234\n"
          ]
        }
      ],
      "source": [
        "def Madhan(name,DOB,CD=25):\n",
        "  age=2024-DOB\n",
        "  return f\"hi {name} your age is {age} ,today is {CD}\"\n",
        "\n",
        "\n",
        "print(Madhan(\"guvi\",2010))\n",
        "\n",
        "print(Madhan(\"Madhan\",2010,20))\n",
        "\n",
        "print(Madhan(name=\"Madhan\",CD=2010,DOB=1234))\n",
        "\n",
        "\n",
        "print(Madhan(\"Madhan\",2010,CD=1234))"
      ]
    },
    {
      "cell_type": "code",
      "execution_count": 33,
      "metadata": {},
      "outputs": [
        {
          "name": "stdout",
          "output_type": "stream",
          "text": [
            "Madhan Jegan\n",
            "20 28\n"
          ]
        },
        {
          "data": {
            "text/plain": [
              "{'name': ['Madhan', 'Jegan'], 'age': [20, 28]}"
            ]
          },
          "execution_count": 33,
          "metadata": {},
          "output_type": "execute_result"
        }
      ],
      "source": [
        "def bio(**info):\n",
        "    # cunt = 0\n",
        "    for i in info: # {'name': ['Madhan', 1], 'lang': 'tamil', 'state': 'TNu'}\n",
        "        print(' '.join(map(str, info[i]))) # 'name': ['Madhan', 1]\n",
        "        # print(i)\n",
        "        # cunt += 1\n",
        "    return info\n",
        "bio(name=[\"Madhan\", \"Jegan\"], age=[20, 28])\n"
      ]
    },
    {
      "cell_type": "code",
      "execution_count": null,
      "metadata": {
        "colab": {
          "base_uri": "https://localhost:8080/"
        },
        "id": "b4MSsrbc6r_2",
        "outputId": "f16390eb-6c38-42a4-933e-64bfbb0810a3"
      },
      "outputs": [
        {
          "data": {
            "text/plain": [
              "13059"
            ]
          },
          "execution_count": 47,
          "metadata": {},
          "output_type": "execute_result"
        }
      ],
      "source": [
        "def nir(*a):\n",
        "  s=0\n",
        "  for i in a:\n",
        "    #print(i)\n",
        "    s= s+i\n",
        "  return s\n",
        "\n",
        "nir(1,2,3,6,7,8,9,10,1000,12013)"
      ]
    },
    {
      "cell_type": "code",
      "execution_count": null,
      "metadata": {
        "colab": {
          "base_uri": "https://localhost:8080/"
        },
        "id": "Hr9KTbF8AjGd",
        "outputId": "dfe2250a-40cd-44cc-8f4b-9abd078112ff"
      },
      "outputs": [
        {
          "name": "stdout",
          "output_type": "stream",
          "text": [
            "['name', 'lang', 'state']\n",
            "[['nirmal', 1], 'tamil', 'TN']\n",
            "['nirmal', 1]\n",
            "tamil\n",
            "TN\n"
          ]
        }
      ],
      "source": [
        "def nir(**kwargs):\n",
        "  print(list(kwargs))\n",
        "  print(list(kwargs.values()))\n",
        "  for i in kwargs.values():\n",
        "    print(i)\n",
        "\n",
        "\n",
        "nir(name=[\"Madhan\",1],lang=\"tamil\",state=\"TN\")"
      ]
    },
    {
      "cell_type": "code",
      "execution_count": 35,
      "metadata": {},
      "outputs": [
        {
          "name": "stdout",
          "output_type": "stream",
          "text": [
            "\n",
            "----------------------\n",
            "🧾 CAR ORDER SUMMARY\n",
            "----------------------\n",
            "Customer: madhan\n",
            "Phone: 8902332966\n",
            "Email: pai@h\n",
            "\n",
            "Car: Hynday 2010 (Base)\n",
            "Fuel Type: Petrol\n",
            "Color: b;ack\n",
            "Model Year: 2004 (Age: 21 years)\n",
            "\n",
            "Base Price      : ₹1000000\n",
            "Insurance       : ₹15000\n",
            "Tire Cost       : ₹8000\n",
            "Registration    : ₹10000\n",
            "Age Discount    : -₹21000\n",
            "-----------------------------\n",
            "Total Bill      : ₹1012000\n",
            "-----------------------------\n"
          ]
        }
      ],
      "source": [
        "# car ku order backed.... company, make, fuvel type, veariant. color, year....  customer end.... insurence tire, registration\n",
        "\n",
        "# name, phone num mail \n",
        "\n",
        "# automate: age bill"
      ]
    },
    {
      "cell_type": "code",
      "execution_count": null,
      "metadata": {
        "colab": {
          "base_uri": "https://localhost:8080/"
        },
        "id": "3jwZ95VtI2fu",
        "outputId": "12a97fe0-6ea7-4f10-bfb1-672ce5796b4c"
      },
      "outputs": [
        {
          "name": "stdout",
          "output_type": "stream",
          "text": [
            "------------------------------\n",
            "     Your Receipt     \n",
            "------------------------------\n",
            "Item 1               $ 10.50\n",
            "Item 2               $  5.75\n",
            "Item 3               $ 20.00\n",
            "Item 4               $  1.25\n",
            "------------------------------\n",
            "Total: $                  37.50\n",
            "------------------------------\n",
            "Thank you for your purchase!\n"
          ]
        }
      ],
      "source": [
        "# prompt: genrate a good print statemnet that looks like a POS bill\n",
        "\n",
        "def print_receipt(items):\n",
        "  \"\"\"Prints a formatted receipt.\"\"\"\n",
        "\n",
        "  print(\"-\" * 30)\n",
        "  print(\"     Your Receipt     \")\n",
        "  print(\"-\" * 30)\n",
        "\n",
        "  for item, price in items.items():\n",
        "      print(f\"{item:<20} ${price:>6.2f}\")\n",
        "\n",
        "  print(\"-\" * 30)\n",
        "  total = sum(items.values())\n",
        "  print(f\"Total: ${total:>23.2f}\")\n",
        "  print(\"-\" * 30)\n",
        "  print(\"Thank you for your purchase!\")\n",
        "\n",
        "\n",
        "# Example usage:\n",
        "items_purchased = {\n",
        "    \"Item 1\": 10.50,\n",
        "    \"Item 2\": 5.75,\n",
        "    \"Item 3\": 20.00,\n",
        "    \"Item 4\": 1.25\n",
        "}\n",
        "\n",
        "print_receipt(items_purchased)"
      ]
    },
    {
      "cell_type": "code",
      "execution_count": null,
      "metadata": {
        "colab": {
          "base_uri": "https://localhost:8080/"
        },
        "id": "jY_7jIawI6d5",
        "outputId": "c5b13347-8c7e-443e-8dc4-ff76d11d9e45"
      },
      "outputs": [
        {
          "name": "stdout",
          "output_type": "stream",
          "text": [
            "59\n",
            "Great\n"
          ]
        }
      ],
      "source": [
        "print(\"Great\" if (a := int(input())) == (u := int(str(a)[0])) + (v := int(str(a)[1])) + u * v else \"Not\")\n"
      ]
    },
    {
      "cell_type": "markdown",
      "metadata": {},
      "source": [
        "# Class 7 - D3"
      ]
    },
    {
      "cell_type": "code",
      "execution_count": null,
      "metadata": {
        "id": "uCOuWjz5DBWG"
      },
      "outputs": [],
      "source": [
        "#recurive\n",
        "#class and objects\n",
        "#lambda\n",
        "#map\n"
      ]
    },
    {
      "cell_type": "code",
      "execution_count": null,
      "metadata": {
        "id": "PrTgEKY7Km_i"
      },
      "outputs": [],
      "source": [
        "#local and global variabnle\n",
        "#class and objects\n",
        "\n",
        "\n"
      ]
    },
    {
      "cell_type": "code",
      "execution_count": 38,
      "metadata": {},
      "outputs": [
        {
          "name": "stdout",
          "output_type": "stream",
          "text": [
            "1000\n",
            "1234\n"
          ]
        }
      ],
      "source": [
        "class BankAccount:\n",
        "    def __init__(self, balance):\n",
        "        self.balance = balance          # Public\n",
        "        self._account_number = \"1234\"   # Protected\n",
        "        self.__pin = 4321               # Private\n",
        "\n",
        "acc = BankAccount(1000)\n",
        "print(acc.balance)        # ✅\n",
        "print(acc._account_number) # ⚠️ Should not be accessed directly\n",
        "# print(acc.__pin)        # ❌ Error\n"
      ]
    },
    {
      "cell_type": "code",
      "execution_count": null,
      "metadata": {
        "id": "95YOunjrNmcy"
      },
      "outputs": [],
      "source": [
        "#class and objects\n",
        "\n",
        "class laptop():\n",
        "\n",
        "  model=\"hp laptop\"\n",
        "  battery=\"10 hr\"\n",
        "\n"
      ]
    },
    {
      "cell_type": "code",
      "execution_count": null,
      "metadata": {
        "colab": {
          "base_uri": "https://localhost:8080/"
        },
        "id": "yOBcdmrQQfXA",
        "outputId": "1d169c06-6ce2-4a53-a1f8-771725447bca"
      },
      "outputs": [
        {
          "name": "stdout",
          "output_type": "stream",
          "text": [
            "hp laptop\n",
            "10 hr\n",
            "hp laptop\n",
            "10 hr\n"
          ]
        }
      ],
      "source": [
        "a=laptop()\n",
        "b=laptop()\n",
        "print(a.model)\n",
        "print(a.battery)\n",
        "print(b.model)\n",
        "print(b.battery)"
      ]
    },
    {
      "cell_type": "code",
      "execution_count": null,
      "metadata": {
        "colab": {
          "base_uri": "https://localhost:8080/"
        },
        "id": "yoCtrmQkWC-O",
        "outputId": "9bc30fcb-1f96-4c11-fa3b-fe7390b2dbec"
      },
      "outputs": [
        {
          "name": "stdout",
          "output_type": "stream",
          "text": [
            "100\n",
            "10\n"
          ]
        }
      ],
      "source": [
        "x=10\n",
        "\n",
        "def guvi():\n",
        "  x=100\n",
        "  return x\n",
        "\n",
        "print(guvi())\n",
        "print(x)"
      ]
    },
    {
      "cell_type": "code",
      "execution_count": 39,
      "metadata": {
        "id": "EzqKcYy5QxOF"
      },
      "outputs": [],
      "source": [
        "\n",
        "class bankaccount():\n",
        "\n",
        "  def __init__(self,name,balance):\n",
        "    self.a=name\n",
        "    self.b=balance\n",
        "\n",
        "  def deposit(self,amount):\n",
        "    self.b=self.b+amount\n",
        "    return self.b\n",
        "\n",
        "  def withdraw(self,amount):\n",
        "    self.b=self.b-amount\n",
        "    return self.a, self.b\n",
        "\n"
      ]
    },
    {
      "cell_type": "code",
      "execution_count": null,
      "metadata": {
        "id": "z-jKZk1NSx2r"
      },
      "outputs": [],
      "source": [
        "Madhan=bankaccount(\"Madhan s\",10000)\n",
        "maddy=bankaccount(\"maddy k\",20000)\n"
      ]
    },
    {
      "cell_type": "code",
      "execution_count": null,
      "metadata": {
        "colab": {
          "base_uri": "https://localhost:8080/"
        },
        "id": "HeNThr7STNMV",
        "outputId": "e5c04c60-3078-4980-dc77-a75f9f14f20b"
      },
      "outputs": [
        {
          "name": "stdout",
          "output_type": "stream",
          "text": [
            "nirmal nethaji\n"
          ]
        }
      ],
      "source": [
        "print(Madhan.a)"
      ]
    },
    {
      "cell_type": "code",
      "execution_count": null,
      "metadata": {
        "colab": {
          "base_uri": "https://localhost:8080/"
        },
        "id": "xoTvhM2KTPuS",
        "outputId": "7463dada-d93c-47c3-bd1c-fc5337845fff"
      },
      "outputs": [
        {
          "name": "stdout",
          "output_type": "stream",
          "text": [
            "20000\n"
          ]
        }
      ],
      "source": [
        "print(maddy.b)"
      ]
    },
    {
      "cell_type": "code",
      "execution_count": null,
      "metadata": {
        "colab": {
          "base_uri": "https://localhost:8080/"
        },
        "id": "3EPZyDvdTSXq",
        "outputId": "872a3433-5461-4fbb-f48d-7019e9829325"
      },
      "outputs": [
        {
          "data": {
            "text/plain": [
              "('murali k', 20000)"
            ]
          },
          "execution_count": 46,
          "metadata": {},
          "output_type": "execute_result"
        }
      ],
      "source": [
        "maddy.withdraw(36000)"
      ]
    },
    {
      "cell_type": "code",
      "execution_count": null,
      "metadata": {
        "colab": {
          "base_uri": "https://localhost:8080/"
        },
        "id": "k8T8k35ITaOc",
        "outputId": "483542d3-49f8-4e17-9761-ad47465c0abb"
      },
      "outputs": [
        {
          "data": {
            "text/plain": [
              "1010000"
            ]
          },
          "execution_count": 45,
          "metadata": {},
          "output_type": "execute_result"
        }
      ],
      "source": [
        "Madhan.deposit(1000000)"
      ]
    },
    {
      "cell_type": "markdown",
      "metadata": {},
      "source": [
        "# Class 7 - D4"
      ]
    },
    {
      "cell_type": "code",
      "execution_count": 48,
      "metadata": {
        "id": "HehsnxTATi3_"
      },
      "outputs": [],
      "source": [
        "class  grandfather():\n",
        "  def wealth(self):\n",
        "    return \"pala land\"\n",
        "\n",
        "\n",
        "class father(grandfather):\n",
        "  def nose(self):\n",
        "    return \"ponited nose\"\n",
        "\n",
        "\n",
        "\n",
        "class mother():\n",
        "  def patience(self):\n",
        "    return \"rombaa\"\n",
        "\n",
        "\n",
        "class child(father,mother):\n",
        "  def hair(self):\n",
        "    return \"curly\"\n",
        "\n",
        "  def nose(self):\n",
        "    return \"round nose\"\n",
        "\n",
        "class grandchild(child):\n",
        "  def nose(self):\n",
        "    return \"nose\"\n"
      ]
    },
    {
      "cell_type": "code",
      "execution_count": 50,
      "metadata": {
        "colab": {
          "base_uri": "https://localhost:8080/",
          "height": 35
        },
        "id": "AKORwrycdGuy",
        "outputId": "9fd6291d-4bde-40ed-fcbd-b3a3ec9f59ac"
      },
      "outputs": [
        {
          "name": "stdout",
          "output_type": "stream",
          "text": [
            "rombaa\n"
          ]
        }
      ],
      "source": [
        "a=grandchild()\n",
        "print(mother().patience())"
      ]
    },
    {
      "cell_type": "code",
      "execution_count": null,
      "metadata": {
        "colab": {
          "base_uri": "https://localhost:8080/"
        },
        "id": "Eue-jQEwdHu0",
        "outputId": "2ea68f7f-8281-4b2c-e3bc-830793d9dfe7"
      },
      "outputs": [
        {
          "name": "stdout",
          "output_type": "stream",
          "text": [
            "100\n",
            "1000000\n",
            "-500\n"
          ]
        }
      ],
      "source": [
        "#without encapsulation\n",
        "class BankAccount:\n",
        "   def __init__(self, account_number, balance):\n",
        "       self.account_number = account_number\n",
        "       self.balance = balance  # Public attribute\n",
        "\n",
        "\n",
        "   def deposit(self, amount):\n",
        "       self.balance += amount\n",
        "       return self.balance\n",
        "\n",
        "\n",
        "   def withdraw(self, amount):\n",
        "       if amount > self.balance:\n",
        "           print(\"Insufficient funds!\")\n",
        "           return\n",
        "       self.balance -= amount\n",
        "       return self.balance\n",
        "\n",
        "\n",
        "   def get_balance(self):\n",
        "       return self.balance\n",
        "account = BankAccount(\"123456789\", 100)\n",
        "print(account.get_balance())  # 100\n",
        "\n",
        "\n",
        "# With the balance being public, we can change it directly, potentially causing data inconsistency or misuse:\n",
        "account.balance = 1000000\n",
        "print(account.get_balance())  # 1000000\n",
        "\n",
        "\n",
        "# Or even set it to nonsensical values:\n",
        "account.balance = -500\n",
        "print(account.get_balance())  # -500\n",
        "\n",
        "\n"
      ]
    },
    {
      "cell_type": "code",
      "execution_count": null,
      "metadata": {
        "colab": {
          "base_uri": "https://localhost:8080/"
        },
        "id": "uUpyAqOtjIhf",
        "outputId": "8524515f-40a1-440e-fef3-c49fa4e498ea"
      },
      "outputs": [
        {
          "name": "stdout",
          "output_type": "stream",
          "text": [
            "100\n"
          ]
        }
      ],
      "source": [
        "#with encapsulation/abstraction\n",
        "class BankAccount:\n",
        "   def __init__(self, account_number, balance):\n",
        "       self.account_number = account_number\n",
        "       self.__balance = balance  # Private attribute\n",
        "\n",
        "\n",
        "   def deposit(self, amount):\n",
        "       self.__balance += amount\n",
        "       return self.__balance\n",
        "\n",
        "\n",
        "   def withdraw(self, amount):\n",
        "       if amount > self.__balance:\n",
        "           print(\"Insufficient funds!\")\n",
        "           return\n",
        "       self.__balance -= amount\n",
        "       return self.__balance\n",
        "\n",
        "\n",
        "   def get_balance(self):\n",
        "       return self.__balance\n",
        "\n",
        "\n",
        "\n",
        "\n",
        "account = BankAccount(\"123456789\", 100)\n",
        "print(account.get_balance())  # 100\n",
        "\n",
        "\n",
        "# With the balance being public, we can change it directly, potentially causing data inconsistency or misuse:\n",
        "account.__balance = 1000000\n",
        "print(account.get_balance())  # 1000000\n",
        "\n",
        "\n",
        "# Or even set it to nonsensical values:\n",
        "account.__balance = -500\n",
        "print(account.get_balance())  # -500\n",
        "\n",
        "\n",
        "account.deposit(10000)\n",
        "print(account.get_balance())\n"
      ]
    },
    {
      "cell_type": "code",
      "execution_count": 57,
      "metadata": {
        "colab": {
          "base_uri": "https://localhost:8080/"
        },
        "id": "9G6B6JvVjobG",
        "outputId": "6c777aad-986a-48a4-a762-abf64d2bd7e1"
      },
      "outputs": [
        {
          "name": "stdout",
          "output_type": "stream",
          "text": [
            "100\n"
          ]
        }
      ],
      "source": [
        "y=10\n",
        "\n",
        "def guvi():\n",
        "  x=100\n",
        "  return x\n",
        "\n",
        "print(guvi())\n",
        "# print(x)"
      ]
    },
    {
      "cell_type": "code",
      "execution_count": 58,
      "metadata": {
        "colab": {
          "base_uri": "https://localhost:8080/",
          "height": 198
        },
        "id": "Pq3-_aoHm2y2",
        "outputId": "d3335d7c-7c64-498b-eeca-fe5969595866"
      },
      "outputs": [
        {
          "name": "stdout",
          "output_type": "stream",
          "text": [
            "10\n"
          ]
        }
      ],
      "source": [
        "y=10\n",
        "\n",
        "def guvi():\n",
        "  z=100\n",
        "  return y\n",
        "\n",
        "print(guvi())\n",
        "\n",
        "# print(x)"
      ]
    },
    {
      "cell_type": "code",
      "execution_count": 55,
      "metadata": {
        "colab": {
          "base_uri": "https://localhost:8080/",
          "height": 108
        },
        "collapsed": true,
        "id": "diG1GH4unQS6",
        "outputId": "3a0063cb-303f-481f-ac3c-2d7b488482fc"
      },
      "outputs": [
        {
          "name": "stdout",
          "output_type": "stream",
          "text": [
            "10\n",
            "40\n",
            "40\n"
          ]
        }
      ],
      "source": [
        "n=10\n",
        "\n",
        "def guvi():\n",
        "  global n\n",
        "  n=n+30\n",
        "  return n\n",
        "\n",
        "print(n)\n",
        "print(guvi())\n",
        "print(n)\n"
      ]
    },
    {
      "cell_type": "code",
      "execution_count": null,
      "metadata": {
        "colab": {
          "base_uri": "https://localhost:8080/"
        },
        "id": "hf2CXO-Ln7ll",
        "outputId": "37b249f4-68d0-46d1-8ab0-976bfeb7590b"
      },
      "outputs": [
        {
          "name": "stdout",
          "output_type": "stream",
          "text": [
            "Found existing installation: pandas 2.2.2\n",
            "Uninstalling pandas-2.2.2:\n",
            "  Would remove:\n",
            "    /usr/local/lib/python3.10/dist-packages/pandas-2.2.2.dist-info/*\n",
            "    /usr/local/lib/python3.10/dist-packages/pandas/*\n",
            "Proceed (Y/n)? Y\n",
            "  Successfully uninstalled pandas-2.2.2\n"
          ]
        }
      ],
      "source": [
        "!pip uninstall pandas"
      ]
    },
    {
      "cell_type": "markdown",
      "metadata": {},
      "source": [
        "# Class 8 - D4"
      ]
    },
    {
      "cell_type": "code",
      "execution_count": null,
      "metadata": {
        "colab": {
          "base_uri": "https://localhost:8080/"
        },
        "id": "5AwvDlG_XkxT",
        "outputId": "96b8f4c5-ee3c-4bfb-813e-b1b89f514487"
      },
      "outputs": [
        {
          "name": "stdout",
          "output_type": "stream",
          "text": [
            "30\n"
          ]
        }
      ],
      "source": [
        "x=lambda a,b,c:a+b\n",
        "print(x(10,20,20))\n",
        "\n"
      ]
    },
    {
      "cell_type": "code",
      "execution_count": null,
      "metadata": {
        "colab": {
          "base_uri": "https://localhost:8080/"
        },
        "id": "_7FKC09EX-Ww",
        "outputId": "4667927e-943a-4c1f-d19b-07a4e4361c39"
      },
      "outputs": [
        {
          "name": "stdout",
          "output_type": "stream",
          "text": [
            "30\n"
          ]
        }
      ],
      "source": [
        "def add(a,b):\n",
        "  return a+b\n",
        "\n",
        "x=lambda a,b:add(a,b)\n",
        "print(x(10,20))"
      ]
    },
    {
      "cell_type": "code",
      "execution_count": null,
      "metadata": {
        "colab": {
          "base_uri": "https://localhost:8080/"
        },
        "id": "kZY6n--wYtkN",
        "outputId": "d11988b2-b923-4a79-da5c-7121fb504ec8"
      },
      "outputs": [
        {
          "name": "stdout",
          "output_type": "stream",
          "text": [
            "even\n"
          ]
        }
      ],
      "source": [
        "x=lambda a:\"even\" if a%2==0 else \"odd\"\n",
        "\n",
        "print(x(10))"
      ]
    },
    {
      "cell_type": "code",
      "execution_count": null,
      "metadata": {
        "colab": {
          "base_uri": "https://localhost:8080/"
        },
        "id": "EkN-q1HjY5LL",
        "outputId": "eb6a5195-9aa3-4b07-d527-5d8a559f8a3b"
      },
      "outputs": [
        {
          "name": "stdout",
          "output_type": "stream",
          "text": [
            "even\n"
          ]
        }
      ],
      "source": [
        "def evenodd(a):\n",
        "  return x(a)\n",
        "\n",
        "print(evenodd(10))"
      ]
    },
    {
      "cell_type": "code",
      "execution_count": null,
      "metadata": {
        "colab": {
          "base_uri": "https://localhost:8080/"
        },
        "id": "2w5_Mq9MZAUf",
        "outputId": "904252b3-e06c-422c-884b-9b202a1651c0"
      },
      "outputs": [
        {
          "name": "stdout",
          "output_type": "stream",
          "text": [
            "Categorized Logs:\n",
            "Error: ['Error: Failed to connect to database', 'Error: User authentication failed']\n",
            "Warning: ['Warning: Low disk space on server', 'Warning: High memory usage detected']\n",
            "Info: ['Info: Scheduled backup completed', 'Info: Service started successfully']\n"
          ]
        }
      ],
      "source": [
        "# Sample log data\n",
        "logs = [\n",
        "    \"Error: Failed to connect to database\",\n",
        "    \"Warning: Low disk space on server\",\n",
        "    \"Info: Scheduled backup completed\",\n",
        "    \"Error: User authentication failed\",\n",
        "    \"Warning: High memory usage detected\",\n",
        "    \"Info: Service started successfully\"\n",
        "]\n",
        "\n",
        "# Lambda function that filters and categorizes logs\n",
        "categorize_logs = lambda log_list: {\n",
        "    \"Error\": list(filter(lambda log: \"Error\" in log, log_list)),\n",
        "    \"Warning\": list(filter(lambda log: \"Warning\" in log, log_list)),\n",
        "    \"Info\": list(filter(lambda log: \"Info\" in log, log_list))\n",
        "}\n",
        "\n",
        "# Applying the lambda function to categorize logs\n",
        "categorized_logs = categorize_logs(logs)\n",
        "\n",
        "# Display output\n",
        "print(\"Categorized Logs:\")\n",
        "for category, entries in categorized_logs.items():\n",
        "    print(f\"{category}: {entries}\")\n"
      ]
    },
    {
      "cell_type": "code",
      "execution_count": null,
      "metadata": {
        "colab": {
          "base_uri": "https://localhost:8080/"
        },
        "id": "MfJXGjsQd64E",
        "outputId": "4dbbab8d-63c8-4589-caae-abfa28ba4506"
      },
      "outputs": [
        {
          "name": "stdout",
          "output_type": "stream",
          "text": [
            "['Error: Failed to connect to database', 'Error: User authentication failed']\n"
          ]
        }
      ],
      "source": [
        "# Sample log data\n",
        "logs = [\n",
        "    \"Error: Failed to connect to database\",\n",
        "    \"Warning: Low disk space on server\",\n",
        "    \"Info: Scheduled backup completed\",\n",
        "    \"Error: User authentication failed\",\n",
        "    \"Warning: High memory usage detected\",\n",
        "    \"Info: Service started successfully\"\n",
        "]\n",
        "\n",
        "\n",
        "a=lambda Madhan: \"Error\" in Madhan\n",
        "\n",
        "print(list(filter(a,logs)))\n",
        "\n"
      ]
    },
    {
      "cell_type": "code",
      "execution_count": null,
      "metadata": {
        "colab": {
          "base_uri": "https://localhost:8080/"
        },
        "id": "5HlvnUoveo4O",
        "outputId": "1e3ed9a3-8a24-4138-ed65-dc6003340188"
      },
      "outputs": [
        {
          "name": "stdout",
          "output_type": "stream",
          "text": [
            "Error: Failed to connect to database\n",
            "Error: User authentication failed\n"
          ]
        }
      ],
      "source": [
        "logs = [\n",
        "    \"Error: Failed to connect to database\",\n",
        "    \"Warning: Low disk space on server\",\n",
        "    \"Info: Scheduled backup completed\",\n",
        "    \"Error: User authentication failed\",\n",
        "    \"Warning: High memory usage detected\",\n",
        "    \"Info: Service started successfully\"\n",
        "]\n",
        "\n",
        "for i in logs:\n",
        "  if \"Error\" in i:\n",
        "    print(i)"
      ]
    },
    {
      "cell_type": "code",
      "execution_count": null,
      "metadata": {
        "colab": {
          "base_uri": "https://localhost:8080/"
        },
        "id": "xGorEOCdaSsH",
        "outputId": "d9b143a8-27db-42cb-f10f-95cae8bfb0ee"
      },
      "outputs": [
        {
          "name": "stdout",
          "output_type": "stream",
          "text": [
            "[31, 44, 21, 18]\n"
          ]
        }
      ],
      "source": [
        "def adults(x):\n",
        "  if x>=18:\n",
        "    return True\n",
        "  else:\n",
        "    return False\n",
        "\n",
        "\n",
        "a=filter(adults,[12,31,44,21,18,4,12,1,2,13,1])\n",
        "\n",
        "print(list(a))"
      ]
    },
    {
      "cell_type": "code",
      "execution_count": null,
      "metadata": {
        "colab": {
          "base_uri": "https://localhost:8080/"
        },
        "id": "L_z5irLeayhR",
        "outputId": "ab5996b5-6a66-4c3c-cb32-88f19ae67b1c"
      },
      "outputs": [
        {
          "name": "stdout",
          "output_type": "stream",
          "text": [
            "[2, 4, 6, 8, 10, 12, 14, 16, 18, 20]\n"
          ]
        }
      ],
      "source": [
        "#map\n",
        "\n",
        "def ennavo(x):\n",
        "  return x*2\n",
        "\n",
        "a=map(ennavo,[1,2,3,4,5,6,7,8,9,10])\n",
        "\n",
        "print(list(a))\n",
        "\n"
      ]
    },
    {
      "cell_type": "code",
      "execution_count": null,
      "metadata": {
        "colab": {
          "base_uri": "https://localhost:8080/"
        },
        "id": "ZHXiAj6bimIU",
        "outputId": "1e448db4-2bba-4184-9d7d-b3dd33cb5af1"
      },
      "outputs": [
        {
          "name": "stdout",
          "output_type": "stream",
          "text": [
            "1 2 3\n"
          ]
        }
      ],
      "source": [
        "a,b,c=\"123\"\n",
        "\n",
        "print(a,b,c)"
      ]
    },
    {
      "cell_type": "code",
      "execution_count": null,
      "metadata": {
        "colab": {
          "base_uri": "https://localhost:8080/"
        },
        "id": "eylYPGNCcCEZ",
        "outputId": "d8cd9310-0037-49cd-c32b-0b93df0cbba6"
      },
      "outputs": [
        {
          "name": "stdout",
          "output_type": "stream",
          "text": [
            "1 2 3 4 5 6\n"
          ]
        }
      ],
      "source": [
        "a,b,c,d,e,f=map(int,\"123456\")\n",
        "\n",
        "print(a,b,c,d,e,f)"
      ]
    },
    {
      "cell_type": "code",
      "execution_count": null,
      "metadata": {
        "colab": {
          "base_uri": "https://localhost:8080/"
        },
        "id": "LCgG2Bctha8-",
        "outputId": "57fea560-9486-44f6-d283-a572f6ad8153"
      },
      "outputs": [
        {
          "name": "stdout",
          "output_type": "stream",
          "text": [
            "NIRMAL GUVI TAMIL\n"
          ]
        }
      ],
      "source": [
        "def guvi(x):\n",
        "  return x.upper()\n",
        "\n",
        "\n",
        "a,b,c=map(guvi,[\"Madhan\",\"guvi\",\"tamil\"])\n",
        "\n",
        "print(a,b,c)"
      ]
    },
    {
      "cell_type": "code",
      "execution_count": null,
      "metadata": {
        "colab": {
          "base_uri": "https://localhost:8080/"
        },
        "id": "ZdT_bnw9h6IP",
        "outputId": "eee01e98-024d-4ea8-c1d9-94490de2ac3d"
      },
      "outputs": [
        {
          "name": "stdout",
          "output_type": "stream",
          "text": [
            "Zipped result: {1: 'a', 2: 'b', 3: 'c', 4: 'd'}\n"
          ]
        }
      ],
      "source": [
        "# Example lists\n",
        "list1 = [1, 2, 3, 4]\n",
        "list2 = ['a', 'b', 'c', 'd']\n",
        "\n",
        "\n",
        "# Using the built-in zip function\n",
        "zipped_result = dict(zip(list1, list2))\n",
        "\n",
        "zipped_result2 = list(zip(list1, list2))\n",
        "\n",
        "print(\"Zipped result:\", zipped_result)\n"
      ]
    },
    {
      "cell_type": "code",
      "execution_count": null,
      "metadata": {
        "colab": {
          "base_uri": "https://localhost:8080/"
        },
        "id": "B6N9AjBMrzsH",
        "outputId": "22a2f433-9ac5-4e92-f168-990559af89c4"
      },
      "outputs": [
        {
          "name": "stdout",
          "output_type": "stream",
          "text": [
            "(1, 'a') (2, 'b') (3, 'c') (4, 'd')\n"
          ]
        }
      ],
      "source": [
        "print(*zipped_result)"
      ]
    },
    {
      "cell_type": "code",
      "execution_count": null,
      "metadata": {
        "colab": {
          "base_uri": "https://localhost:8080/"
        },
        "id": "69mfoeMmsCag",
        "outputId": "605b3ddc-861c-4854-d3a6-82bf741abeb1"
      },
      "outputs": [
        {
          "name": "stdout",
          "output_type": "stream",
          "text": [
            "(1, 'a')\n",
            "(2, 'b')\n",
            "(3, 'c')\n",
            "(4, 'd')\n"
          ]
        }
      ],
      "source": [
        "for i in zipped_result:\n",
        "  print(i)"
      ]
    },
    {
      "cell_type": "code",
      "execution_count": null,
      "metadata": {
        "colab": {
          "base_uri": "https://localhost:8080/"
        },
        "id": "Kt7U9Bw6sVbJ",
        "outputId": "24c4d9a4-8d86-4262-a030-229b923966b2"
      },
      "outputs": [
        {
          "name": "stdout",
          "output_type": "stream",
          "text": [
            "120\n"
          ]
        }
      ],
      "source": [
        "#recursive function\n",
        "\n",
        "def factorial(n):\n",
        "  if n==0:\n",
        "    return 1\n",
        "  else:\n",
        "    return n*factorial(n-1)\n",
        "\n",
        "print(factorial(5))"
      ]
    },
    {
      "cell_type": "code",
      "execution_count": null,
      "metadata": {
        "colab": {
          "base_uri": "https://localhost:8080/"
        },
        "id": "rqnZzatmyZ1G",
        "outputId": "3e1b9483-bb73-48a7-8dd3-56c3800cc382"
      },
      "outputs": [
        {
          "name": "stdout",
          "output_type": "stream",
          "text": [
            "((((guvi))))\n"
          ]
        }
      ],
      "source": [
        "def russian_doll(n):\n",
        "    # Base case: when n is 0, return a simple value (center of the doll)\n",
        "    if n == 0:\n",
        "        return \"guvi\"\n",
        "    # Recursive case: add a pair of parentheses around the inner call\n",
        "    return f\"({russian_doll(n - 1)})\"\n",
        "\n",
        "\n",
        "result = russian_doll(4)\n",
        "print(result)\n"
      ]
    },
    {
      "cell_type": "code",
      "execution_count": null,
      "metadata": {
        "colab": {
          "base_uri": "https://localhost:8080/"
        },
        "id": "3AmbER3Gxyst",
        "outputId": "c5953d63-0644-497b-9ff2-f4e3e7040c8f"
      },
      "outputs": [
        {
          "name": "stdout",
          "output_type": "stream",
          "text": [
            "145\n"
          ]
        }
      ],
      "source": [
        "def fac(v):\n",
        "    if v==0:\n",
        "        return 1\n",
        "    else:\n",
        "        return v*fac(v-1)\n",
        "a=map(fac,[1,4,5])\n",
        "b=list(a)\n",
        "print(sum(b))"
      ]
    },
    {
      "cell_type": "code",
      "execution_count": null,
      "metadata": {
        "id": "5oVl8yuXxzCx"
      },
      "outputs": [],
      "source": [
        "\n"
      ]
    },
    {
      "cell_type": "code",
      "execution_count": null,
      "metadata": {
        "colab": {
          "base_uri": "https://localhost:8080/"
        },
        "id": "3MDCLRj7ui0Y",
        "outputId": "840f8a1c-1282-45ff-96d1-04e019246415"
      },
      "outputs": [
        {
          "name": "stdout",
          "output_type": "stream",
          "text": [
            "Target 21 not found in the list\n"
          ]
        }
      ],
      "source": [
        "# prompt: implement simple binary search\n",
        "\n",
        "def binary_search(sorted_list, target):\n",
        "    low = 0\n",
        "    high = len(sorted_list) - 1\n",
        "\n",
        "    while low <= high:\n",
        "        mid = (low + high) // 2  # Integer division\n",
        "\n",
        "        if sorted_list[mid] == target:\n",
        "            return mid  # Target found at index mid\n",
        "        elif sorted_list[mid] < target:\n",
        "            low = mid + 1  # Search in the right half\n",
        "        else:\n",
        "            high = mid - 1  # Search in the left half\n",
        "\n",
        "    return -1  # Target not found\n",
        "\n",
        "\n",
        "# Example usage:\n",
        "my_list = [2, 5, 7, 8, 11, 12]\n",
        "target_value = 21\n",
        "\n",
        "result_index = binary_search(my_list, target_value)\n",
        "\n",
        "if result_index != -1:\n",
        "    print(f\"Target {target_value} found at index {result_index}\")\n",
        "else:\n",
        "    print(f\"Target {target_value} not found in the list\")"
      ]
    },
    {
      "cell_type": "code",
      "execution_count": null,
      "metadata": {
        "id": "DG4VeZdl189P"
      },
      "outputs": [],
      "source": [
        "\n",
        "#open weather API\n",
        "#json/API\n",
        "\n",
        "\n",
        "\n",
        "\n"
      ]
    }
  ],
  "metadata": {
    "colab": {
      "provenance": []
    },
    "kernelspec": {
      "display_name": "Python 3",
      "name": "python3"
    },
    "language_info": {
      "codemirror_mode": {
        "name": "ipython",
        "version": 3
      },
      "file_extension": ".py",
      "mimetype": "text/x-python",
      "name": "python",
      "nbconvert_exporter": "python",
      "pygments_lexer": "ipython3",
      "version": "3.13.2"
    }
  },
  "nbformat": 4,
  "nbformat_minor": 0
}

{
  "nbformat": 4,
  "nbformat_minor": 0,
  "metadata": {
    "colab": {
      "provenance": []
    },
    "kernelspec": {
      "name": "python3",
      "display_name": "Python 3"
    },
    "language_info": {
      "name": "python"
    }
  },
  "cells": [
    {
      "cell_type": "code",
      "execution_count": null,
      "metadata": {
        "colab": {
          "base_uri": "https://localhost:8080/"
        },
        "id": "WnAYzXvbORtb",
        "outputId": "25e04939-c090-4752-bb6d-98051cd8ecc4"
      },
      "outputs": [
        {
          "output_type": "stream",
          "name": "stdout",
          "text": [
            "indru121@#$%^& netru naalai\n"
          ]
        }
      ],
      "source": [
        "print(\"indru121@#$%^& netru naalai\")"
      ]
    },
    {
      "cell_type": "code",
      "source": [
        "print(2+2)"
      ],
      "metadata": {
        "colab": {
          "base_uri": "https://localhost:8080/"
        },
        "id": "2tDTxqY7OW7n",
        "outputId": "b7adc6f6-91bc-45a8-ab05-7c87977ce29f"
      },
      "execution_count": null,
      "outputs": [
        {
          "output_type": "stream",
          "name": "stdout",
          "text": [
            "4\n"
          ]
        }
      ]
    },
    {
      "cell_type": "code",
      "source": [
        "a=3\n",
        "b=10\n",
        "print(a+b)"
      ],
      "metadata": {
        "colab": {
          "base_uri": "https://localhost:8080/"
        },
        "id": "wcGqZ8yaU5jo",
        "outputId": "32b21f37-4b5d-4473-ae00-a28b74f47389"
      },
      "execution_count": null,
      "outputs": [
        {
          "output_type": "stream",
          "name": "stdout",
          "text": [
            "13\n"
          ]
        }
      ]
    },
    {
      "cell_type": "code",
      "source": [
        "name=input(\"enter your name\")\n",
        "psw=input(\"enter your password\")\n",
        "print(\"hi \" + name, \"you have successfully logged in\")"
      ],
      "metadata": {
        "colab": {
          "base_uri": "https://localhost:8080/"
        },
        "id": "PL5aFAooVQKu",
        "outputId": "4b82f553-4149-4a63-f237-7f27958fd05f"
      },
      "execution_count": null,
      "outputs": [
        {
          "output_type": "stream",
          "name": "stdout",
          "text": [
            "enter your namenirmal\n",
            "enter your passwordlll\n",
            "hinirmal you have successfully logged in\n"
          ]
        }
      ]
    },
    {
      "cell_type": "code",
      "source": [
        "print(2+5-9*78)\n",
        "print(4-6)\n",
        "print(8*9)\n",
        "print(10/2)\n",
        "print(10%2)\n",
        "print(3**3)\n",
        "print(11//5)"
      ],
      "metadata": {
        "colab": {
          "base_uri": "https://localhost:8080/"
        },
        "id": "32KDJSdqVm_C",
        "outputId": "0d78950c-9226-46c4-aef1-95ced2c1aef9"
      },
      "execution_count": null,
      "outputs": [
        {
          "output_type": "stream",
          "name": "stdout",
          "text": [
            "-695\n",
            "-2\n",
            "72\n",
            "5.0\n",
            "0\n",
            "27\n",
            "2\n"
          ]
        }
      ]
    },
    {
      "cell_type": "code",
      "source": [
        "\n",
        "\n",
        "# Comparison Operators\n",
        "x = 10\n",
        "y = 5\n",
        "\n",
        "# Equal to (==)\n",
        "print(\"x == y:\", x == y)  # False\n",
        "\n",
        "# Not equal to (!=)\n",
        "print(\"x != y:\", x != y)  # True\n",
        "\n",
        "# Greater than (>)\n",
        "print(\"x > y:\", x > y)  # True\n",
        "\n",
        "# Less than (<)\n",
        "print(\"x < y:\", x < y)  # False\n",
        "\n",
        "# Greater than or equal to (>=)\n",
        "print(\"x >= y:\", x >= y)  # True\n",
        "\n",
        "# Less than or equal to (<=)\n",
        "print(\"x <= y:\", x <= y)  # False"
      ],
      "metadata": {
        "colab": {
          "base_uri": "https://localhost:8080/"
        },
        "id": "HLWh28VQdzFh",
        "outputId": "8e6ee625-e041-430d-d6af-74fde66721e8"
      },
      "execution_count": null,
      "outputs": [
        {
          "output_type": "stream",
          "name": "stdout",
          "text": [
            "x == y: False\n",
            "x != y: True\n",
            "x > y: True\n",
            "x < y: False\n",
            "x >= y: True\n",
            "x <= y: False\n"
          ]
        }
      ]
    },
    {
      "cell_type": "code",
      "source": [
        "#LOGICAL OPERATORS\n",
        "\n",
        "print(True or True)\n",
        "print(True or False)\n",
        "print(False or True)\n",
        "print(False or False)\n",
        "\n",
        "print(True and True)\n",
        "print(True and False)\n",
        "print(False and True)\n",
        "print(False and False)"
      ],
      "metadata": {
        "colab": {
          "base_uri": "https://localhost:8080/"
        },
        "id": "Z1dvL3N6Tb2Q",
        "outputId": "3bb5f867-1c51-4353-e934-f070c893716b"
      },
      "execution_count": null,
      "outputs": [
        {
          "output_type": "stream",
          "name": "stdout",
          "text": [
            "True\n",
            "True\n",
            "True\n",
            "False\n",
            "True\n",
            "False\n",
            "False\n",
            "False\n"
          ]
        }
      ]
    },
    {
      "cell_type": "code",
      "source": [
        "print(not True)\n",
        "print(not False)\n",
        "\n",
        "print(False or True and not True)\n",
        "print(True or False and False and True)"
      ],
      "metadata": {
        "colab": {
          "base_uri": "https://localhost:8080/"
        },
        "id": "fJH7rLhjWIFy",
        "outputId": "7cf0d6b1-a838-4640-e9ac-48b37d011b13"
      },
      "execution_count": null,
      "outputs": [
        {
          "output_type": "stream",
          "name": "stdout",
          "text": [
            "False\n",
            "True\n",
            "False\n",
            "True\n"
          ]
        }
      ]
    },
    {
      "cell_type": "code",
      "source": [
        "print(True or False and not False)"
      ],
      "metadata": {
        "colab": {
          "base_uri": "https://localhost:8080/"
        },
        "id": "jOhg5sMtXpcZ",
        "outputId": "dc92cad4-a568-4ef0-f069-c004a2419fe7"
      },
      "execution_count": null,
      "outputs": [
        {
          "output_type": "stream",
          "name": "stdout",
          "text": [
            "True\n"
          ]
        }
      ]
    },
    {
      "cell_type": "code",
      "source": [
        "# prompt: list down all the keywors in python\n",
        "\n",
        "import keyword\n",
        "\n",
        "print(keyword.kwlist)"
      ],
      "metadata": {
        "colab": {
          "base_uri": "https://localhost:8080/"
        },
        "id": "2n0DA4f_VB9H",
        "outputId": "328d9ed1-1ed1-4d14-88b3-c3bf62267d2e"
      },
      "execution_count": null,
      "outputs": [
        {
          "output_type": "stream",
          "name": "stdout",
          "text": [
            "['False', 'None', 'True', 'and', 'as', 'assert', 'async', 'await', 'break', 'class', 'continue', 'def', 'del', 'elif', 'else', 'except', 'finally', 'for', 'from', 'global', 'if', 'import', 'in', 'is', 'lambda', 'nonlocal', 'not', 'or', 'pass', 'raise', 'return', 'try', 'while', 'with', 'yield']\n"
          ]
        }
      ]
    },
    {
      "cell_type": "markdown",
      "source": [
        "# prompt: list down all the inbuilt functions in python\n",
        "\n",
        "Okay, let's identify the built-in functions used in your provided Python code snippet:\n",
        "\n",
        "\n",
        "*   **`print()`:**  Used to display output to the console.\n",
        "*   **`input()`:** Used to take user input from the console.\n",
        "*   **`keyword.kwlist`:** This is a list of all keywords in Python provided by the `keyword` module, it is not a function, but an attribute.\n",
        "\n",
        "\n",
        "\n",
        "**Built-in Functions in General:**\n",
        "\n",
        "It's important to note that the code snippet only uses a small subset of the many built-in functions available in Python. Some other common examples include:\n",
        "\n",
        "*   **`len()`:** Returns the length of an object (string, list, tuple, etc.).\n",
        "*   **`type()`:** Returns the type of an object.\n",
        "*   **`str()`:** Converts an object to a string.\n",
        "*   `int()`: Converts a string to an integer.\n",
        "*   `float()`: Converts a string to a float.\n",
        "*   `list()`: Converts an iterable to a list.\n",
        "*   `tuple()`: Converts an iterable to a tuple.\n",
        "*   `range()`: Creates a sequence of numbers.\n",
        "*   `sum()`: Adds elements of an iterable.\n",
        "*   `min()`: Returns the minimum element of an iterable.\n",
        "*   `max()`: Returns the maximum element of an iterable.\n",
        "*   `abs()`: Returns the absolute value of a number.\n",
        "*   `round()`: Rounds a number to a specified number of decimal places.\n",
        "\n",
        "\n",
        "\n",
        "By understanding built-in functions, you can write more concise and efficient Python code."
      ],
      "metadata": {
        "id": "-JFqmWhpVq_e"
      }
    },
    {
      "cell_type": "code",
      "source": [
        "a=input(\"username\")\n",
        "b=input(\"passowrd\")\n",
        "\n",
        "if a and b:\n",
        "  print(\"success\")\n",
        "else:\n",
        "  print(\"fail\")"
      ],
      "metadata": {
        "colab": {
          "base_uri": "https://localhost:8080/"
        },
        "id": "jaB7uTU1YkIU",
        "outputId": "9c92ddf6-48eb-4582-e1bf-ee5d50e75439"
      },
      "execution_count": null,
      "outputs": [
        {
          "output_type": "stream",
          "name": "stdout",
          "text": [
            "username\n",
            "passowrdghj\n",
            "fail\n"
          ]
        }
      ]
    },
    {
      "cell_type": "code",
      "source": [
        "0 and 1\n",
        "\"a\" or \"nirmal\"\n",
        "7 and 8\n",
        "True and False"
      ],
      "metadata": {
        "colab": {
          "base_uri": "https://localhost:8080/"
        },
        "id": "ZTt1pBbQYzN-",
        "outputId": "46924719-83b0-4c69-8f2e-b86568591338"
      },
      "execution_count": null,
      "outputs": [
        {
          "output_type": "execute_result",
          "data": {
            "text/plain": [
              "8"
            ]
          },
          "metadata": {},
          "execution_count": 28
        }
      ]
    },
    {
      "cell_type": "code",
      "source": [
        "print(\"abcd\")\n",
        "print('abcd')\n",
        "print('''abcd''')\n",
        "print(\"\"\"abcd\"\"\")\n",
        "\n"
      ],
      "metadata": {
        "colab": {
          "base_uri": "https://localhost:8080/"
        },
        "id": "awielBGWZBZV",
        "outputId": "a949d815-6a23-446f-f6fe-ef67e4048eda"
      },
      "execution_count": null,
      "outputs": [
        {
          "output_type": "stream",
          "name": "stdout",
          "text": [
            "abcd\n",
            "abcd\n",
            "abcd\n",
            "abcd\n"
          ]
        }
      ]
    },
    {
      "cell_type": "code",
      "source": [
        "#conditions\n",
        "\n",
        "\n",
        "if True :\n",
        "  print(\"true\")\n",
        "else:\n",
        "  print(\"false\")\n",
        "\n"
      ],
      "metadata": {
        "colab": {
          "base_uri": "https://localhost:8080/"
        },
        "id": "oE-6Ky-AasyM",
        "outputId": "d057190a-16c5-42ad-e058-28148906f5d3"
      },
      "execution_count": null,
      "outputs": [
        {
          "output_type": "stream",
          "name": "stdout",
          "text": [
            "true\n"
          ]
        }
      ]
    },
    {
      "cell_type": "code",
      "source": [
        "\n",
        "if False:\n",
        "  print(\"true\")\n",
        "else:\n",
        "  print(\"false\")"
      ],
      "metadata": {
        "colab": {
          "base_uri": "https://localhost:8080/"
        },
        "id": "9XKkji1adPAQ",
        "outputId": "b17e0de6-166f-4831-9d70-4dcc377d3c07"
      },
      "execution_count": null,
      "outputs": [
        {
          "output_type": "stream",
          "name": "stdout",
          "text": [
            "false\n"
          ]
        }
      ]
    },
    {
      "cell_type": "code",
      "source": [
        "a=input(\"username\")\n",
        "b=input(\"passowrd\")\n",
        "\n",
        "if a == b:\n",
        "  print(\"success\")\n",
        "else:\n",
        "  print(\"fail\")"
      ],
      "metadata": {
        "colab": {
          "base_uri": "https://localhost:8080/"
        },
        "id": "vVfBzvfHdQOZ",
        "outputId": "b2b9038b-c732-42f7-a0cd-f924464dda73"
      },
      "execution_count": null,
      "outputs": [
        {
          "output_type": "stream",
          "name": "stdout",
          "text": [
            "usernameasdf\n",
            "passowrdasdf\n",
            "success\n"
          ]
        }
      ]
    },
    {
      "cell_type": "code",
      "source": [
        "a=input(\"username\")\n",
        "b=input(\"passowrd\")\n",
        "\n",
        "if a == b:\n",
        "  print(\"success\")\n",
        "elif b==\"mottaboss\":\n",
        "  print(\"successfully logged in as special user\")\n",
        "else:\n",
        "  print(\"fail\")"
      ],
      "metadata": {
        "colab": {
          "base_uri": "https://localhost:8080/"
        },
        "id": "zxvkBCvqezrD",
        "outputId": "77e567b0-004c-4f4e-8ff9-7c6c0415be6a"
      },
      "execution_count": null,
      "outputs": [
        {
          "output_type": "stream",
          "name": "stdout",
          "text": [
            "usernamedvev\n",
            "passowrdmottaboss\n",
            "successfully logged in as special user\n"
          ]
        }
      ]
    },
    {
      "cell_type": "code",
      "source": [
        "card = input(\"enter your card number\")\n",
        "balance=100000\n",
        "if len(card) == 16:\n",
        "  print(\"valid\")\n",
        "  pin=input(\"enter your pin\")\n",
        "  if pin == \"1234\":\n",
        "    print(\"successfully logged in\")\n",
        "    transaction=input(\"enter your transaction W or D\")\n",
        "\n",
        "  else:\n",
        "    print(\"invalid pin\")\n",
        "else:\n",
        "  print(\"invalid card- indru poi nalai vaanga\")"
      ],
      "metadata": {
        "colab": {
          "base_uri": "https://localhost:8080/"
        },
        "id": "yg_UPekJfKt1",
        "outputId": "621b886a-61a6-4e52-d4bf-a2367f9105d8"
      },
      "execution_count": null,
      "outputs": [
        {
          "output_type": "stream",
          "name": "stdout",
          "text": [
            "False\n"
          ]
        }
      ]
    },
    {
      "cell_type": "code",
      "source": [
        "card = input(\"enter your card number\")\n",
        "balance=100000\n",
        "if len(card) == 16:\n",
        " print(\"valid\")\n",
        " pin=input(\"enter your pin\")\n",
        " if pin == \"1234\":\n",
        "   print(\"successfully logged in\")\n",
        "   transaction=input(\"enter your transaction W or D\")\n",
        "   if (transaction=='W' or transaction== 'w'):\n",
        "      amount=int(input(\"Enter the amount: \"))\n",
        "      if amount < balance:\n",
        "        balance=balance-amount\n",
        "        print(\"your balance is\",balance)\n",
        "      else:\n",
        "        print(\"insufficient balance\")\n",
        "   else:\n",
        "      amount=int(input(\"Enter the amount: \"))\n",
        "      balance=balance+amount\n",
        "      print(\"your balance is\",balance)\n",
        " else:\n",
        "   print(\"invalid pin\")\n",
        "else:\n",
        " print(\"invalid card- indru poi nalai vaanga\")"
      ],
      "metadata": {
        "colab": {
          "base_uri": "https://localhost:8080/"
        },
        "id": "OcbfoLTEgvZ-",
        "outputId": "977f7cd7-ff0c-4d79-b188-f110e81f7728"
      },
      "execution_count": null,
      "outputs": [
        {
          "output_type": "stream",
          "name": "stdout",
          "text": [
            "the value is not 2 \n"
          ]
        }
      ]
    },
    {
      "cell_type": "code",
      "source": [
        "#loops\n",
        "co=0\n",
        "for x in \"NirMAL\":\n",
        "  print(x.upper())\n",
        "  co=co+10\n",
        "\n",
        "print(co)\n"
      ],
      "metadata": {
        "colab": {
          "base_uri": "https://localhost:8080/"
        },
        "id": "qRXGcJqRhEVm",
        "outputId": "264f31ed-32bb-405b-cd8e-599db6df1b8a"
      },
      "execution_count": null,
      "outputs": [
        {
          "output_type": "stream",
          "name": "stdout",
          "text": [
            "N\n",
            "I\n",
            "R\n",
            "M\n",
            "A\n",
            "L\n",
            "60\n"
          ]
        }
      ]
    },
    {
      "cell_type": "code",
      "source": [
        "count=0\n",
        "for i in 'safik':\n",
        "  print(i)\n",
        "  count=count+1\n",
        "print(count)"
      ],
      "metadata": {
        "colab": {
          "base_uri": "https://localhost:8080/"
        },
        "id": "45QQ0aOlytjm",
        "outputId": "eeb544e9-9d9f-4ebd-f241-21b4ab83148b"
      },
      "execution_count": null,
      "outputs": [
        {
          "output_type": "stream",
          "name": "stdout",
          "text": [
            "s\n",
            "a\n",
            "f\n",
            "i\n",
            "k\n",
            "5\n"
          ]
        }
      ]
    },
    {
      "cell_type": "code",
      "source": [
        "for i in range(2,10):\n",
        "  print(i)"
      ],
      "metadata": {
        "colab": {
          "base_uri": "https://localhost:8080/"
        },
        "id": "u3R_9N-Mskqe",
        "outputId": "9b653c3e-72ee-4fcf-9895-112c7ba947f7"
      },
      "execution_count": null,
      "outputs": [
        {
          "output_type": "stream",
          "name": "stdout",
          "text": [
            "2\n",
            "3\n",
            "4\n",
            "5\n",
            "6\n",
            "7\n",
            "8\n",
            "9\n"
          ]
        }
      ]
    },
    {
      "cell_type": "code",
      "source": [
        "#nested for and while\n",
        "count=1\n",
        "while count==10:\n",
        "  print(\"good morning\")\n",
        "  count=count+2"
      ],
      "metadata": {
        "id": "vHc6yKwttP-V"
      },
      "execution_count": null,
      "outputs": []
    },
    {
      "cell_type": "code",
      "source": [
        "issue=\"no\"\n",
        "\n",
        "while issue ==\"no\":\n",
        "  print(\"the marriage is happening \")\n",
        "  issue=input(\"is there any issue still \")\n",
        "  if issue==\"small\":\n",
        "    print(\"the marriage is not happening \")\n",
        "    issue=\"no\"\n",
        "    continue\n",
        "  if issue==\"yes\":\n",
        "    print(\"the marriage is not happening \")\n",
        "    break\n",
        "\n"
      ],
      "metadata": {
        "id": "IY4wTRMxtSP8",
        "colab": {
          "base_uri": "https://localhost:8080/"
        },
        "outputId": "15a059ab-4ddc-4e58-e7b0-65f36dd77d40"
      },
      "execution_count": null,
      "outputs": [
        {
          "output_type": "stream",
          "name": "stdout",
          "text": [
            "the marriage is happening \n",
            "is there any issue still no\n",
            "the marriage is happening \n",
            "is there any issue still small\n",
            "the marriage is not happening \n",
            "the marriage is happening \n",
            "is there any issue still yes\n",
            "the marriage is not happening \n"
          ]
        }
      ]
    },
    {
      "cell_type": "code",
      "source": [
        "a=0\n",
        "\n",
        "while a<10:\n",
        "  print(a)\n",
        "  a=a+1\n",
        "  if a==5:\n",
        "    pass\n",
        "  print(\"hello\")"
      ],
      "metadata": {
        "colab": {
          "base_uri": "https://localhost:8080/"
        },
        "id": "9mFy_ywQhHHA",
        "outputId": "f808f28f-9567-47b6-aedd-65588405dd6f"
      },
      "execution_count": null,
      "outputs": [
        {
          "output_type": "stream",
          "name": "stdout",
          "text": [
            "0\n",
            "hello\n",
            "1\n",
            "hello\n",
            "2\n",
            "hello\n",
            "3\n",
            "hello\n",
            "4\n",
            "hello\n",
            "5\n",
            "hello\n",
            "6\n",
            "hello\n",
            "7\n",
            "hello\n",
            "8\n",
            "hello\n",
            "9\n",
            "hello\n"
          ]
        }
      ]
    },
    {
      "cell_type": "code",
      "source": [
        "a=0\n",
        "b=0\n",
        "while a<5:\n",
        "  print(a)\n",
        "  a=a+1\n",
        "  while b<5:\n",
        "    print(b)\n",
        "    b=b+1\n"
      ],
      "metadata": {
        "colab": {
          "base_uri": "https://localhost:8080/"
        },
        "id": "Vw_SLCb9hlZP",
        "outputId": "2758bbd2-144c-40c0-f7d5-15e3bd2dd579"
      },
      "execution_count": null,
      "outputs": [
        {
          "output_type": "stream",
          "name": "stdout",
          "text": [
            "0\n",
            "0\n",
            "1\n",
            "2\n",
            "3\n",
            "4\n",
            "1\n",
            "2\n",
            "3\n",
            "4\n"
          ]
        }
      ]
    },
    {
      "cell_type": "code",
      "source": [
        "for i in range(0,5):\n",
        "  for j in range(0,3):\n",
        "    print(i,j)\n"
      ],
      "metadata": {
        "colab": {
          "base_uri": "https://localhost:8080/"
        },
        "id": "vkk9hwjkmW6E",
        "outputId": "7c2d7aab-24d7-4abf-cb11-b06bc1dae665"
      },
      "execution_count": null,
      "outputs": [
        {
          "output_type": "stream",
          "name": "stdout",
          "text": [
            "0 0\n",
            "0 1\n",
            "0 2\n",
            "1 0\n",
            "1 1\n",
            "1 2\n",
            "2 0\n",
            "2 1\n",
            "2 2\n",
            "3 0\n",
            "3 1\n",
            "3 2\n",
            "4 0\n",
            "4 1\n",
            "4 2\n"
          ]
        }
      ]
    },
    {
      "cell_type": "code",
      "source": [
        "for i in [\"rajini\",\"kamal\",\"alia\"]:\n",
        "  for j in [\"khant\",\"hassan\",\"bhatt\"]:\n",
        "    print(i.index(),j)"
      ],
      "metadata": {
        "colab": {
          "base_uri": "https://localhost:8080/",
          "height": 180
        },
        "id": "dxzvrwxgtct_",
        "outputId": "65191e14-f2e5-4de2-a207-46a78fc6fa93"
      },
      "execution_count": null,
      "outputs": [
        {
          "output_type": "error",
          "ename": "TypeError",
          "evalue": "index() takes at least 1 argument (0 given)",
          "traceback": [
            "\u001b[0;31m---------------------------------------------------------------------------\u001b[0m",
            "\u001b[0;31mTypeError\u001b[0m                                 Traceback (most recent call last)",
            "\u001b[0;32m<ipython-input-28-89bb0f01969a>\u001b[0m in \u001b[0;36m<cell line: 1>\u001b[0;34m()\u001b[0m\n\u001b[1;32m      1\u001b[0m \u001b[0;32mfor\u001b[0m \u001b[0mi\u001b[0m \u001b[0;32min\u001b[0m \u001b[0;34m[\u001b[0m\u001b[0;34m\"rajini\"\u001b[0m\u001b[0;34m,\u001b[0m\u001b[0;34m\"kamal\"\u001b[0m\u001b[0;34m,\u001b[0m\u001b[0;34m\"alia\"\u001b[0m\u001b[0;34m]\u001b[0m\u001b[0;34m:\u001b[0m\u001b[0;34m\u001b[0m\u001b[0;34m\u001b[0m\u001b[0m\n\u001b[1;32m      2\u001b[0m   \u001b[0;32mfor\u001b[0m \u001b[0mj\u001b[0m \u001b[0;32min\u001b[0m \u001b[0;34m[\u001b[0m\u001b[0;34m\"khant\"\u001b[0m\u001b[0;34m,\u001b[0m\u001b[0;34m\"hassan\"\u001b[0m\u001b[0;34m,\u001b[0m\u001b[0;34m\"bhatt\"\u001b[0m\u001b[0;34m]\u001b[0m\u001b[0;34m:\u001b[0m\u001b[0;34m\u001b[0m\u001b[0;34m\u001b[0m\u001b[0m\n\u001b[0;32m----> 3\u001b[0;31m     \u001b[0mprint\u001b[0m\u001b[0;34m(\u001b[0m\u001b[0mi\u001b[0m\u001b[0;34m.\u001b[0m\u001b[0mindex\u001b[0m\u001b[0;34m(\u001b[0m\u001b[0;34m)\u001b[0m\u001b[0;34m,\u001b[0m\u001b[0mj\u001b[0m\u001b[0;34m)\u001b[0m\u001b[0;34m\u001b[0m\u001b[0;34m\u001b[0m\u001b[0m\n\u001b[0m",
            "\u001b[0;31mTypeError\u001b[0m: index() takes at least 1 argument (0 given)"
          ]
        }
      ]
    },
    {
      "cell_type": "code",
      "source": [
        "a = 0\n",
        "for i in [\"rajini\", \"kamal\",\"alia\"]:\n",
        "    b = []\n",
        "    for j in [\"kanth\",\"hasan\",\"bhatt\"]:\n",
        "        b.append(j)\n",
        "    print(i,b[a])\n",
        "    a += 1\n"
      ],
      "metadata": {
        "colab": {
          "base_uri": "https://localhost:8080/"
        },
        "id": "UqwaNdpKltVK",
        "outputId": "571e34ce-d7e1-4829-9713-b557e3105834"
      },
      "execution_count": null,
      "outputs": [
        {
          "output_type": "stream",
          "name": "stdout",
          "text": [
            "rajini kanth\n",
            "kamal hasan\n",
            "alia bhatt\n"
          ]
        }
      ]
    },
    {
      "cell_type": "code",
      "source": [
        "counteri=0\n",
        "for i in [\"rajini\",\"kamal\",\"alia\"]:\n",
        "  counterj=0\n",
        "  for j in [\"kanth\",\"hasan\",\"bhatt\"]:\n",
        "    if counteri==counterj:\n",
        "      print(i,j)\n",
        "    counterj=counterj+1\n",
        "  counteri= counteri+1\n"
      ],
      "metadata": {
        "colab": {
          "base_uri": "https://localhost:8080/"
        },
        "id": "Cg4CRkeYl2Qr",
        "outputId": "103fb68a-cc34-41f2-e1a0-8632d658983b"
      },
      "execution_count": null,
      "outputs": [
        {
          "output_type": "stream",
          "name": "stdout",
          "text": [
            "rajini kanth\n",
            "kamal hasan\n",
            "alia bhatt\n"
          ]
        }
      ]
    },
    {
      "cell_type": "code",
      "source": [
        "First_name = [\"rajini\",\"kamal\",\"alia\"]\n",
        "Last_name = [\"khant\",\"hassan\",\"bhatt\"]\n",
        "for i, j in zip(First_name,Last_name):\n",
        "  print(i,j)\n"
      ],
      "metadata": {
        "colab": {
          "base_uri": "https://localhost:8080/"
        },
        "id": "w90cwnKCmeWS",
        "outputId": "136c26f7-6807-4703-c56d-4188dc0b918d"
      },
      "execution_count": null,
      "outputs": [
        {
          "output_type": "stream",
          "name": "stdout",
          "text": [
            "rajini khant\n",
            "kamal hassan\n",
            "alia bhatt\n"
          ]
        }
      ]
    },
    {
      "cell_type": "code",
      "source": [
        "actor=[]\n",
        "for i in ['rajini','kamal','alia']:\n",
        "    for j in ['khant','hassan','bhatt']:\n",
        "        actor.append(i+\" \"+j)\n",
        "print(actor[0:9:4])"
      ],
      "metadata": {
        "colab": {
          "base_uri": "https://localhost:8080/"
        },
        "id": "jLD6ZhiBmrDC",
        "outputId": "33d20df7-33df-41a1-8876-fbb1a9e1bafe"
      },
      "execution_count": null,
      "outputs": [
        {
          "output_type": "stream",
          "name": "stdout",
          "text": [
            "['rajini khant', 'kamal hassan', 'alia bhatt']\n"
          ]
        }
      ]
    },
    {
      "cell_type": "code",
      "source": [
        "#string operation\n",
        "a=\"Today is Wednesday\"\n",
        "b=\"abcd123\"\n",
        "\n",
        "print(a.upper())\n",
        "print(a.lower())\n",
        "print(a.capitalize())\n",
        "\n",
        "print(a.isalpha())\n",
        "print(b.isalnum())\n",
        "print(a.count(\"is\"))\n",
        "print(a.find(\"z\"))\n",
        "print(a.index(\"is\"))\n",
        "print(a.replace(\"Wednesday\",\"Thursday\"))\n",
        "print(a.endswith(\"day\"))\n",
        "print(a.startswith(\"today\"))\n",
        "c=a.upper()\n",
        "print(c)\n"
      ],
      "metadata": {
        "colab": {
          "base_uri": "https://localhost:8080/"
        },
        "id": "vP_UTN4HxDAH",
        "outputId": "38fb6dec-dddb-46f3-afae-0e13edcc3128"
      },
      "execution_count": null,
      "outputs": [
        {
          "output_type": "stream",
          "name": "stdout",
          "text": [
            "TODAY IS WEDNESDAY\n",
            "today is wednesday\n",
            "Today is wednesday\n",
            "False\n",
            "True\n",
            "1\n",
            "-1\n",
            "3\n",
            "Today is Thursday\n",
            "True\n",
            "False\n",
            "TODAY IS WEDNESDAY\n"
          ]
        }
      ]
    },
    {
      "cell_type": "code",
      "source": [
        "a=\"Today is Wednesday\"\n",
        "print(a.index(\"is\"))\n",
        "#print(c.isupper())\n",
        "#print(c.islower())\n",
        "print(a.split())\n",
        "c=a.split()\n",
        "print(\" \".join(c))"
      ],
      "metadata": {
        "id": "l98tlrVA0TXX",
        "colab": {
          "base_uri": "https://localhost:8080/"
        },
        "outputId": "892ef17e-6f7a-4dfb-fb7c-9bcee2f7fe82"
      },
      "execution_count": null,
      "outputs": [
        {
          "output_type": "stream",
          "name": "stdout",
          "text": [
            "6\n",
            "['Today', 'is', 'Wednesday']\n",
            "Today is Wednesday\n"
          ]
        }
      ]
    },
    {
      "cell_type": "code",
      "source": [
        "a=[\"1\",\"2\",\"3\",\"4\"]\n",
        "print(\"$\".join(a))\n",
        "\n"
      ],
      "metadata": {
        "colab": {
          "base_uri": "https://localhost:8080/"
        },
        "id": "6yTjpcngsZt2",
        "outputId": "03cbc9ce-5a6c-4916-c338-7a5cdce63bf3"
      },
      "execution_count": null,
      "outputs": [
        {
          "output_type": "stream",
          "name": "stdout",
          "text": [
            "1$2$3$4\n"
          ]
        }
      ]
    },
    {
      "cell_type": "code",
      "source": [
        "a=\"nirmal\"\n",
        "print(r\"\\n how are \\n malai?\")\n",
        "print(f\"\\n how are \\nmalai? \")\n",
        "print(r\"{a} is a data guy\")\n",
        "print(f\"{a} is a data guy\")"
      ],
      "metadata": {
        "colab": {
          "base_uri": "https://localhost:8080/"
        },
        "id": "eUy-Nis8vQVl",
        "outputId": "e60807fc-e3f5-4eff-9743-66e91094d7e8"
      },
      "execution_count": null,
      "outputs": [
        {
          "output_type": "stream",
          "name": "stdout",
          "text": [
            "\\n how are \\n malai?\n",
            "\n",
            " how are \n",
            "malai? \n",
            "{a} is a data guy\n",
            "nirmal is a data guy\n"
          ]
        }
      ]
    },
    {
      "cell_type": "code",
      "source": [
        "a=\"today is thursday\"\n",
        "\n",
        "print(a[0:10])\n",
        "print(a[:10])\n",
        "print(a[3:])\n",
        "print(a[0:10:2])\n",
        "print(a[::2])\n",
        "print(a.capitalize()[::-1])"
      ],
      "metadata": {
        "colab": {
          "base_uri": "https://localhost:8080/"
        },
        "id": "OKR6GrMgwv6O",
        "outputId": "c9716b62-2779-4784-d0fb-d47459f28355"
      },
      "execution_count": null,
      "outputs": [
        {
          "output_type": "stream",
          "name": "stdout",
          "text": [
            "today is t\n",
            "today is t\n",
            "ay is thursday\n",
            "tdyi \n",
            "tdyi hrdy\n",
            "yadsruht si yadoT\n"
          ]
        }
      ]
    },
    {
      "cell_type": "code",
      "source": [
        "#list and its operations\n",
        "\n",
        "a=[\"today\",\"yesterday\",\"tomorrow\"]\n",
        "b=[1,1.2342,\"nirmal\",[1,2,3]]\n",
        "print(b)\n",
        "\n",
        "print(b[0])\n",
        "print(b[3][1])\n",
        "print(b[0:3])\n"
      ],
      "metadata": {
        "colab": {
          "base_uri": "https://localhost:8080/"
        },
        "id": "9zKX80W30tL0",
        "outputId": "87e40ab2-3919-45a2-acaa-bd25b19ec6c4"
      },
      "execution_count": null,
      "outputs": [
        {
          "output_type": "stream",
          "name": "stdout",
          "text": [
            "[1, 1.2342, 'nirmal', [1, 2, 3]]\n",
            "1\n",
            "2\n",
            "[1, 1.2342, 'nirmal']\n"
          ]
        }
      ]
    },
    {
      "cell_type": "code",
      "source": [
        "a=[1,2]\n",
        "a.append(\"nirmal\")\n",
        "a.append(\"guvi\")\n",
        "a.append(10121023)\n",
        "a.append([\"z\",\"a\",\"v\"])\n",
        "a.extend([1,2,\"a\",[1,2,3,4]])\n",
        "a[5].append(\"zim damak dhum dhum\")\n",
        "print(a.count(\"guvi\"))\n",
        "a.insert(1,\"guviHCL\")\n",
        "print(a[3].count(\"a\"))\n",
        "print(a)\n",
        "z=a[1]\n",
        "a[1]=a[10]\n",
        "a[10]=z\n",
        "print(a)"
      ],
      "metadata": {
        "colab": {
          "base_uri": "https://localhost:8080/"
        },
        "id": "LsgInBs6354W",
        "outputId": "d2a4c125-2537-44f6-abb6-a7499ea3bc1d"
      },
      "execution_count": null,
      "outputs": [
        {
          "output_type": "stream",
          "name": "stdout",
          "text": [
            "1\n",
            "1\n",
            "[1, 'guviHCL', 2, 'nirmal', 'guvi', 10121023, ['z', 'a', 'v', 'zim damak dhum dhum'], 1, 2, 'a', [1, 2, 3, 4]]\n",
            "[1, [1, 2, 3, 4], 2, 'nirmal', 'guvi', 10121023, ['z', 'a', 'v', 'zim damak dhum dhum'], 1, 2, 'a', 'guviHCL']\n"
          ]
        }
      ]
    },
    {
      "cell_type": "code",
      "source": [
        "a=[1,2,3,4,3,5,4,23,2,3,122,1,21,212,1,2123,1,2,1]\n",
        "a.sort(reverse=False)\n",
        "print(a)\n",
        "a.remove(4)\n",
        "print(a)\n",
        "f=a.pop(14)\n",
        "print(a)\n",
        "print(f)"
      ],
      "metadata": {
        "colab": {
          "base_uri": "https://localhost:8080/"
        },
        "id": "UlEOpZK_5sez",
        "outputId": "74b61ffd-5469-47e7-ccff-cbd305c6d414"
      },
      "execution_count": null,
      "outputs": [
        {
          "output_type": "stream",
          "name": "stdout",
          "text": [
            "[1, 1, 1, 1, 1, 2, 2, 2, 3, 3, 3, 4, 4, 5, 21, 23, 122, 212, 2123]\n",
            "[1, 1, 1, 1, 1, 2, 2, 2, 3, 3, 3, 4, 5, 21, 23, 122, 212, 2123]\n",
            "[1, 1, 1, 1, 1, 2, 2, 2, 3, 3, 3, 4, 5, 21, 122, 212, 2123]\n",
            "23\n"
          ]
        }
      ]
    },
    {
      "cell_type": "code",
      "source": [
        "a=(1,2,3,4,\"nirmal\")\n",
        "print(a[0])\n",
        "\n",
        "a,b,c,d=(1,4,3,4)\n",
        "print(a)\n",
        "print(b)\n",
        "print(c)\n",
        "print(d)"
      ],
      "metadata": {
        "colab": {
          "base_uri": "https://localhost:8080/"
        },
        "id": "Hs_ApT4B7Zjn",
        "outputId": "5fa73295-0929-471d-ddce-16361ada4863"
      },
      "execution_count": null,
      "outputs": [
        {
          "output_type": "stream",
          "name": "stdout",
          "text": [
            "1\n",
            "1\n",
            "2\n",
            "3\n",
            "4\n"
          ]
        }
      ]
    },
    {
      "cell_type": "code",
      "source": [
        "#set\n",
        "\n",
        "a={1,1,2,2,2,21,3,2,3,1,2,None}\n",
        "print(a)"
      ],
      "metadata": {
        "colab": {
          "base_uri": "https://localhost:8080/"
        },
        "id": "bgBQBLhMA8cR",
        "outputId": "0cd8e865-d197-437e-e8de-956bf2374695"
      },
      "execution_count": null,
      "outputs": [
        {
          "output_type": "stream",
          "name": "stdout",
          "text": [
            "{1, 2, 3, 21, None}\n"
          ]
        }
      ]
    },
    {
      "cell_type": "code",
      "source": [
        "print(\"nirmal \" + \"nethaji\")"
      ],
      "metadata": {
        "colab": {
          "base_uri": "https://localhost:8080/"
        },
        "id": "zpvSSMNiGyNK",
        "outputId": "766983d3-b59c-40f6-9c3b-1f24f3098477"
      },
      "execution_count": null,
      "outputs": [
        {
          "output_type": "stream",
          "name": "stdout",
          "text": [
            "nirmal nethaji\n"
          ]
        }
      ]
    },
    {
      "cell_type": "code",
      "source": [
        "a={\"name\":\"nirmal\",\"lang\":\"tamil\",\"state\":\"TN\",\"date\":\"24/10/2024\"}\n",
        "\n",
        "print(a)\n",
        "print(a['name'])\n",
        "print(a[\"lang\"])\n",
        "a[\"name1\"]='nethaji'\n",
        "a[\"lang\"]=[\"tamil\",\"hindi\"]\n",
        "a[\"lang\"].append(\"english\")\n",
        "print(a)\n",
        "\n",
        "print(a.get(\"name\"))\n",
        "print(a.keys())\n",
        "print(a.values())\n",
        "print(a.items())\n",
        "\n",
        "v=a.values()\n",
        "print(v)\n",
        "#print(list(v).index(\"tamil\"))\n"
      ],
      "metadata": {
        "colab": {
          "base_uri": "https://localhost:8080/"
        },
        "id": "9P6gdYAZCEJ0",
        "outputId": "2674630e-34fe-4ac1-cb32-7c763da64916"
      },
      "execution_count": null,
      "outputs": [
        {
          "output_type": "stream",
          "name": "stdout",
          "text": [
            "{'name': 'nirmal', 'lang': 'tamil', 'state': 'TN', 'date': '24/10/2024'}\n",
            "nirmal\n",
            "tamil\n",
            "{'name': 'nirmal', 'lang': ['tamil', 'hindi', 'english'], 'state': 'TN', 'date': '24/10/2024', 'name1': 'nethaji'}\n",
            "nirmal\n",
            "dict_keys(['name', 'lang', 'state', 'date', 'name1'])\n",
            "dict_values(['nirmal', ['tamil', 'hindi', 'english'], 'TN', '24/10/2024', 'nethaji'])\n",
            "dict_items([('name', 'nirmal'), ('lang', ['tamil', 'hindi', 'english']), ('state', 'TN'), ('date', '24/10/2024'), ('name1', 'nethaji')])\n",
            "dict_values(['nirmal', ['tamil', 'hindi', 'english'], 'TN', '24/10/2024', 'nethaji'])\n"
          ]
        }
      ]
    },
    {
      "cell_type": "code",
      "source": [
        "#functions\n",
        "\n",
        "def guvi():\n",
        "  print(\"nirmal \")\n",
        "  return \"nirmal is a data scientist\"\n",
        "\n",
        "a=guvi()"
      ],
      "metadata": {
        "id": "HoxPoZHwDGTu",
        "colab": {
          "base_uri": "https://localhost:8080/"
        },
        "outputId": "5bcc72b4-3054-484d-ba6e-7f10352bcf0c"
      },
      "execution_count": null,
      "outputs": [
        {
          "output_type": "stream",
          "name": "stdout",
          "text": [
            "nirmal \n"
          ]
        }
      ]
    },
    {
      "cell_type": "code",
      "source": [
        "def add(num1,num2):\n",
        "  return num1+num2\n",
        "\n",
        "\n",
        "def evenodd(num):\n",
        "  if num%2==0:\n",
        "    return \"even\"\n",
        "  else:\n",
        "    return \"odd\"\n",
        "\n",
        "a=add(int(input()),20)\n",
        "print(a)\n",
        "evenodd(add(10,20))\n"
      ],
      "metadata": {
        "colab": {
          "base_uri": "https://localhost:8080/",
          "height": 71
        },
        "id": "OAs58p3hz4wy",
        "outputId": "de49a750-7cb6-4949-8b48-9bb2b07351e0"
      },
      "execution_count": null,
      "outputs": [
        {
          "output_type": "stream",
          "name": "stdout",
          "text": [
            "12\n",
            "32\n"
          ]
        },
        {
          "output_type": "execute_result",
          "data": {
            "text/plain": [
              "'even'"
            ],
            "application/vnd.google.colaboratory.intrinsic+json": {
              "type": "string"
            }
          },
          "metadata": {},
          "execution_count": 27
        }
      ]
    },
    {
      "cell_type": "code",
      "source": [
        "def evenodd(n1,n2):\n",
        "  x=add(n1,n2)\n",
        "  if x%2==0:\n",
        "    return \"even\"\n",
        "  else:\n",
        "    return \"odd\"\n",
        "\n",
        "evenodd(10,20)"
      ],
      "metadata": {
        "colab": {
          "base_uri": "https://localhost:8080/",
          "height": 35
        },
        "id": "2XIxufwezg9b",
        "outputId": "4d8c12fe-ee00-4d37-f3bb-7313b676691f"
      },
      "execution_count": null,
      "outputs": [
        {
          "output_type": "execute_result",
          "data": {
            "text/plain": [
              "'even'"
            ],
            "application/vnd.google.colaboratory.intrinsic+json": {
              "type": "string"
            }
          },
          "metadata": {},
          "execution_count": 21
        }
      ]
    },
    {
      "cell_type": "code",
      "source": [
        "def nirmal(name,DOB,CD=25):\n",
        "  age=2024-DOB\n",
        "  return f\"hi {name} your age is {age} ,today is {CD}\"\n",
        "\n",
        "\n",
        "print(nirmal(\"guvi\",2010))\n",
        "\n",
        "print(nirmal(\"nirmal\",2010,20))\n",
        "\n",
        "print(nirmal(name=\"nirmal\",CD=2010,DOB=1234))\n",
        "\n",
        "\n",
        "print(nirmal(\"nirmal\",2010,CD=1234))"
      ],
      "metadata": {
        "colab": {
          "base_uri": "https://localhost:8080/"
        },
        "id": "wEQtB_IEzraO",
        "outputId": "b131b313-7a7e-4c70-e17d-ebbbcf09e7c5"
      },
      "execution_count": null,
      "outputs": [
        {
          "output_type": "stream",
          "name": "stdout",
          "text": [
            "hi guvi your age is 14 ,today is 25\n",
            "hi nirmal your age is 14 ,today is 20\n",
            "hi nirmal your age is 790 ,today is 2010\n",
            "hi nirmal your age is 14 ,today is 1234\n"
          ]
        }
      ]
    },
    {
      "cell_type": "code",
      "source": [
        "def nir(*a):\n",
        "  s=0\n",
        "  for i in a:\n",
        "    #print(i)\n",
        "    s= s+i\n",
        "  return s\n",
        "\n",
        "nir(1,2,3,6,7,8,9,10,1000,12013)"
      ],
      "metadata": {
        "colab": {
          "base_uri": "https://localhost:8080/"
        },
        "id": "b4MSsrbc6r_2",
        "outputId": "f16390eb-6c38-42a4-933e-64bfbb0810a3"
      },
      "execution_count": null,
      "outputs": [
        {
          "output_type": "execute_result",
          "data": {
            "text/plain": [
              "13059"
            ]
          },
          "metadata": {},
          "execution_count": 47
        }
      ]
    },
    {
      "cell_type": "code",
      "source": [
        "def nir(**kwargs):\n",
        "  print(list(kwargs))\n",
        "  print(list(kwargs.values()))\n",
        "  for i in kwargs.values():\n",
        "    print(i)\n",
        "\n",
        "\n",
        "nir(name=[\"nirmal\",1],lang=\"tamil\",state=\"TN\")"
      ],
      "metadata": {
        "colab": {
          "base_uri": "https://localhost:8080/"
        },
        "id": "Hr9KTbF8AjGd",
        "outputId": "dfe2250a-40cd-44cc-8f4b-9abd078112ff"
      },
      "execution_count": null,
      "outputs": [
        {
          "output_type": "stream",
          "name": "stdout",
          "text": [
            "['name', 'lang', 'state']\n",
            "[['nirmal', 1], 'tamil', 'TN']\n",
            "['nirmal', 1]\n",
            "tamil\n",
            "TN\n"
          ]
        }
      ]
    },
    {
      "cell_type": "code",
      "source": [
        "#recurive\n",
        "#class and objects\n",
        "#lambda\n",
        "#map\n"
      ],
      "metadata": {
        "id": "uCOuWjz5DBWG"
      },
      "execution_count": null,
      "outputs": []
    },
    {
      "cell_type": "code",
      "source": [
        "# prompt: genrate a good print statemnet that looks like a POS bill\n",
        "\n",
        "def print_receipt(items):\n",
        "  \"\"\"Prints a formatted receipt.\"\"\"\n",
        "\n",
        "  print(\"-\" * 30)\n",
        "  print(\"     Your Receipt     \")\n",
        "  print(\"-\" * 30)\n",
        "\n",
        "  for item, price in items.items():\n",
        "      print(f\"{item:<20} ${price:>6.2f}\")\n",
        "\n",
        "  print(\"-\" * 30)\n",
        "  total = sum(items.values())\n",
        "  print(f\"Total: ${total:>23.2f}\")\n",
        "  print(\"-\" * 30)\n",
        "  print(\"Thank you for your purchase!\")\n",
        "\n",
        "\n",
        "# Example usage:\n",
        "items_purchased = {\n",
        "    \"Item 1\": 10.50,\n",
        "    \"Item 2\": 5.75,\n",
        "    \"Item 3\": 20.00,\n",
        "    \"Item 4\": 1.25\n",
        "}\n",
        "\n",
        "print_receipt(items_purchased)"
      ],
      "metadata": {
        "colab": {
          "base_uri": "https://localhost:8080/"
        },
        "id": "3jwZ95VtI2fu",
        "outputId": "12a97fe0-6ea7-4f10-bfb1-672ce5796b4c"
      },
      "execution_count": null,
      "outputs": [
        {
          "output_type": "stream",
          "name": "stdout",
          "text": [
            "------------------------------\n",
            "     Your Receipt     \n",
            "------------------------------\n",
            "Item 1               $ 10.50\n",
            "Item 2               $  5.75\n",
            "Item 3               $ 20.00\n",
            "Item 4               $  1.25\n",
            "------------------------------\n",
            "Total: $                  37.50\n",
            "------------------------------\n",
            "Thank you for your purchase!\n"
          ]
        }
      ]
    },
    {
      "cell_type": "code",
      "source": [
        "print(\"Great\" if (a := int(input())) == (u := int(str(a)[0])) + (v := int(str(a)[1])) + u * v else \"Not\")\n"
      ],
      "metadata": {
        "colab": {
          "base_uri": "https://localhost:8080/"
        },
        "id": "jY_7jIawI6d5",
        "outputId": "c5b13347-8c7e-443e-8dc4-ff76d11d9e45"
      },
      "execution_count": null,
      "outputs": [
        {
          "output_type": "stream",
          "name": "stdout",
          "text": [
            "59\n",
            "Great\n"
          ]
        }
      ]
    },
    {
      "cell_type": "code",
      "source": [
        "#local and global variabnle\n",
        "#class and objects\n",
        "\n",
        "\n"
      ],
      "metadata": {
        "id": "PrTgEKY7Km_i"
      },
      "execution_count": null,
      "outputs": []
    },
    {
      "cell_type": "code",
      "source": [
        "#class and objects\n",
        "\n",
        "class laptop():\n",
        "\n",
        "  model=\"hp laptop\"\n",
        "  battery=\"10 hr\"\n",
        "\n"
      ],
      "metadata": {
        "id": "95YOunjrNmcy"
      },
      "execution_count": null,
      "outputs": []
    },
    {
      "cell_type": "code",
      "source": [
        "a=laptop()\n",
        "b=laptop()\n",
        "print(a.model)\n",
        "print(a.battery)\n",
        "print(b.model)\n",
        "print(b.battery)"
      ],
      "metadata": {
        "colab": {
          "base_uri": "https://localhost:8080/"
        },
        "id": "yOBcdmrQQfXA",
        "outputId": "1d169c06-6ce2-4a53-a1f8-771725447bca"
      },
      "execution_count": null,
      "outputs": [
        {
          "output_type": "stream",
          "name": "stdout",
          "text": [
            "hp laptop\n",
            "10 hr\n",
            "hp laptop\n",
            "10 hr\n"
          ]
        }
      ]
    },
    {
      "cell_type": "code",
      "source": [
        "x=10\n",
        "\n",
        "def guvi():\n",
        "  x=100\n",
        "  return x\n",
        "\n",
        "print(guvi())\n",
        "print(x)"
      ],
      "metadata": {
        "colab": {
          "base_uri": "https://localhost:8080/"
        },
        "id": "yoCtrmQkWC-O",
        "outputId": "9bc30fcb-1f96-4c11-fa3b-fe7390b2dbec"
      },
      "execution_count": null,
      "outputs": [
        {
          "output_type": "stream",
          "name": "stdout",
          "text": [
            "100\n",
            "10\n"
          ]
        }
      ]
    },
    {
      "cell_type": "code",
      "source": [
        "\n",
        "class bankaccount():\n",
        "\n",
        "  def __init__(self,name,balance):\n",
        "    self.a=name\n",
        "    self.b=balance\n",
        "\n",
        "  def deposit(self,amount):\n",
        "    self.b=self.b+amount\n",
        "    return self.b\n",
        "\n",
        "  def withdraw(self,amount):\n",
        "    self.b=self.b-amount\n",
        "    return self.b\n",
        "\n"
      ],
      "metadata": {
        "id": "EzqKcYy5QxOF"
      },
      "execution_count": null,
      "outputs": []
    },
    {
      "cell_type": "code",
      "source": [
        "nirmal=bankaccount(\"nirmal nethaji\",10000)\n",
        "murali=bankaccount(\"murali k\",20000)\n"
      ],
      "metadata": {
        "id": "z-jKZk1NSx2r"
      },
      "execution_count": null,
      "outputs": []
    },
    {
      "cell_type": "code",
      "source": [
        "print(nirmal.a)"
      ],
      "metadata": {
        "colab": {
          "base_uri": "https://localhost:8080/"
        },
        "id": "HeNThr7STNMV",
        "outputId": "e5c04c60-3078-4980-dc77-a75f9f14f20b"
      },
      "execution_count": null,
      "outputs": [
        {
          "output_type": "stream",
          "name": "stdout",
          "text": [
            "nirmal nethaji\n"
          ]
        }
      ]
    },
    {
      "cell_type": "code",
      "source": [
        "print(murali.balance)"
      ],
      "metadata": {
        "colab": {
          "base_uri": "https://localhost:8080/"
        },
        "id": "xoTvhM2KTPuS",
        "outputId": "7463dada-d93c-47c3-bd1c-fc5337845fff"
      },
      "execution_count": null,
      "outputs": [
        {
          "output_type": "stream",
          "name": "stdout",
          "text": [
            "56000\n"
          ]
        }
      ]
    },
    {
      "cell_type": "code",
      "source": [
        "murali.deposit(36000)"
      ],
      "metadata": {
        "colab": {
          "base_uri": "https://localhost:8080/"
        },
        "id": "3EPZyDvdTSXq",
        "outputId": "872a3433-5461-4fbb-f48d-7019e9829325"
      },
      "execution_count": null,
      "outputs": [
        {
          "output_type": "execute_result",
          "data": {
            "text/plain": [
              "56000"
            ]
          },
          "metadata": {},
          "execution_count": 15
        }
      ]
    },
    {
      "cell_type": "code",
      "source": [
        "nirmal.deposit(1000000)"
      ],
      "metadata": {
        "colab": {
          "base_uri": "https://localhost:8080/"
        },
        "id": "k8T8k35ITaOc",
        "outputId": "483542d3-49f8-4e17-9761-ad47465c0abb"
      },
      "execution_count": null,
      "outputs": [
        {
          "output_type": "execute_result",
          "data": {
            "text/plain": [
              "1010000"
            ]
          },
          "metadata": {},
          "execution_count": 18
        }
      ]
    },
    {
      "cell_type": "code",
      "source": [
        "class  grandfather():\n",
        "  def wealth(self):\n",
        "    return \"pala land\"\n",
        "\n",
        "\n",
        "class father(grandfather):\n",
        "  def nose(self):\n",
        "    return \"ponited nose\"\n",
        "\n",
        "\n",
        "\n",
        "class mother():\n",
        "  def patience(self):\n",
        "    return \"rombaa\"\n",
        "\n",
        "\n",
        "class child(father,mother):\n",
        "  def hair(self):\n",
        "    return \"curly\"\n",
        "\n",
        "  def nose(self):\n",
        "    return \"round nose\"\n",
        "\n",
        "class grandchild(child):\n",
        "  def nose(self):\n",
        "    return \"nose\"\n"
      ],
      "metadata": {
        "id": "HehsnxTATi3_"
      },
      "execution_count": null,
      "outputs": []
    },
    {
      "cell_type": "code",
      "source": [
        "a=grandchild()\n",
        "a.nose()"
      ],
      "metadata": {
        "colab": {
          "base_uri": "https://localhost:8080/",
          "height": 35
        },
        "id": "AKORwrycdGuy",
        "outputId": "9fd6291d-4bde-40ed-fcbd-b3a3ec9f59ac"
      },
      "execution_count": null,
      "outputs": [
        {
          "output_type": "execute_result",
          "data": {
            "text/plain": [
              "'nose'"
            ],
            "application/vnd.google.colaboratory.intrinsic+json": {
              "type": "string"
            }
          },
          "metadata": {},
          "execution_count": 51
        }
      ]
    },
    {
      "cell_type": "code",
      "source": [
        "#without encapsulation\n",
        "class BankAccount:\n",
        "   def __init__(self, account_number, balance):\n",
        "       self.account_number = account_number\n",
        "       self.balance = balance  # Public attribute\n",
        "\n",
        "\n",
        "   def deposit(self, amount):\n",
        "       self.balance += amount\n",
        "       return self.balance\n",
        "\n",
        "\n",
        "   def withdraw(self, amount):\n",
        "       if amount > self.balance:\n",
        "           print(\"Insufficient funds!\")\n",
        "           return\n",
        "       self.balance -= amount\n",
        "       return self.balance\n",
        "\n",
        "\n",
        "   def get_balance(self):\n",
        "       return self.balance\n",
        "account = BankAccount(\"123456789\", 100)\n",
        "print(account.get_balance())  # 100\n",
        "\n",
        "\n",
        "# With the balance being public, we can change it directly, potentially causing data inconsistency or misuse:\n",
        "account.balance = 1000000\n",
        "print(account.get_balance())  # 1000000\n",
        "\n",
        "\n",
        "# Or even set it to nonsensical values:\n",
        "account.balance = -500\n",
        "print(account.get_balance())  # -500\n",
        "\n",
        "\n"
      ],
      "metadata": {
        "colab": {
          "base_uri": "https://localhost:8080/"
        },
        "id": "Eue-jQEwdHu0",
        "outputId": "2ea68f7f-8281-4b2c-e3bc-830793d9dfe7"
      },
      "execution_count": null,
      "outputs": [
        {
          "output_type": "stream",
          "name": "stdout",
          "text": [
            "100\n",
            "1000000\n",
            "-500\n"
          ]
        }
      ]
    },
    {
      "cell_type": "code",
      "source": [
        "#with encapsulation/abstraction\n",
        "class BankAccount:\n",
        "   def __init__(self, account_number, balance):\n",
        "       self.account_number = account_number\n",
        "       self.__balance = balance  # Private attribute\n",
        "\n",
        "\n",
        "   def deposit(self, amount):\n",
        "       self.__balance += amount\n",
        "       return self.__balance\n",
        "\n",
        "\n",
        "   def withdraw(self, amount):\n",
        "       if amount > self.__balance:\n",
        "           print(\"Insufficient funds!\")\n",
        "           return\n",
        "       self.__balance -= amount\n",
        "       return self.__balance\n",
        "\n",
        "\n",
        "   def get_balance(self):\n",
        "       return self.__balance\n",
        "\n",
        "\n",
        "\n",
        "\n",
        "account = BankAccount(\"123456789\", 100)\n",
        "print(account.get_balance())  # 100\n",
        "\n",
        "\n",
        "# With the balance being public, we can change it directly, potentially causing data inconsistency or misuse:\n",
        "account.__balance = 1000000\n",
        "print(account.get_balance())  # 1000000\n",
        "\n",
        "\n",
        "# Or even set it to nonsensical values:\n",
        "account.balance = -500\n",
        "print(account.get_balance())  # -500\n",
        "\n",
        "\n",
        "account.deposit(10000)\n",
        "print(account.get_balance())\n"
      ],
      "metadata": {
        "colab": {
          "base_uri": "https://localhost:8080/"
        },
        "id": "uUpyAqOtjIhf",
        "outputId": "8524515f-40a1-440e-fef3-c49fa4e498ea"
      },
      "execution_count": null,
      "outputs": [
        {
          "output_type": "stream",
          "name": "stdout",
          "text": [
            "100\n",
            "100\n",
            "100\n",
            "10100\n"
          ]
        }
      ]
    },
    {
      "cell_type": "code",
      "source": [
        "y=10\n",
        "\n",
        "def guvi():\n",
        "  x=100\n",
        "  return y\n",
        "\n",
        "print(guvi())\n",
        "print(x)"
      ],
      "metadata": {
        "colab": {
          "base_uri": "https://localhost:8080/"
        },
        "id": "9G6B6JvVjobG",
        "outputId": "6c777aad-986a-48a4-a762-abf64d2bd7e1"
      },
      "execution_count": null,
      "outputs": [
        {
          "output_type": "stream",
          "name": "stdout",
          "text": [
            "10\n",
            "10\n"
          ]
        }
      ]
    },
    {
      "cell_type": "code",
      "source": [
        "y=10\n",
        "\n",
        "def guvi():\n",
        "  z=100\n",
        "  return y\n",
        "\n",
        "print(guvi())\n",
        "\n",
        "print(x)"
      ],
      "metadata": {
        "colab": {
          "base_uri": "https://localhost:8080/",
          "height": 198
        },
        "id": "Pq3-_aoHm2y2",
        "outputId": "d3335d7c-7c64-498b-eeca-fe5969595866"
      },
      "execution_count": null,
      "outputs": [
        {
          "output_type": "stream",
          "name": "stdout",
          "text": [
            "10\n"
          ]
        },
        {
          "output_type": "error",
          "ename": "NameError",
          "evalue": "name 'x' is not defined",
          "traceback": [
            "\u001b[0;31m---------------------------------------------------------------------------\u001b[0m",
            "\u001b[0;31mNameError\u001b[0m                                 Traceback (most recent call last)",
            "\u001b[0;32m<ipython-input-1-533eeccd4e71>\u001b[0m in \u001b[0;36m<cell line: 9>\u001b[0;34m()\u001b[0m\n\u001b[1;32m      7\u001b[0m \u001b[0mprint\u001b[0m\u001b[0;34m(\u001b[0m\u001b[0mguvi\u001b[0m\u001b[0;34m(\u001b[0m\u001b[0;34m)\u001b[0m\u001b[0;34m)\u001b[0m\u001b[0;34m\u001b[0m\u001b[0;34m\u001b[0m\u001b[0m\n\u001b[1;32m      8\u001b[0m \u001b[0;34m\u001b[0m\u001b[0m\n\u001b[0;32m----> 9\u001b[0;31m \u001b[0mprint\u001b[0m\u001b[0;34m(\u001b[0m\u001b[0mx\u001b[0m\u001b[0;34m)\u001b[0m\u001b[0;34m\u001b[0m\u001b[0;34m\u001b[0m\u001b[0m\n\u001b[0m",
            "\u001b[0;31mNameError\u001b[0m: name 'x' is not defined"
          ]
        }
      ]
    },
    {
      "cell_type": "code",
      "source": [
        "n=10\n",
        "\n",
        "def guvi():\n",
        "  global n\n",
        "  n=n+30\n",
        "  return n\n",
        "\n",
        "print(n)\n",
        "print(guvi())\n",
        "print(n)\n"
      ],
      "metadata": {
        "colab": {
          "base_uri": "https://localhost:8080/",
          "height": 108
        },
        "id": "diG1GH4unQS6",
        "outputId": "3a0063cb-303f-481f-ac3c-2d7b488482fc",
        "collapsed": true
      },
      "execution_count": null,
      "outputs": [
        {
          "output_type": "error",
          "ename": "SyntaxError",
          "evalue": "name 'n' is parameter and global (<ipython-input-75-587c64a083f0>, line 4)",
          "traceback": [
            "\u001b[0;36m  File \u001b[0;32m\"<ipython-input-75-587c64a083f0>\"\u001b[0;36m, line \u001b[0;32m4\u001b[0m\n\u001b[0;31m    global n\u001b[0m\n\u001b[0m    ^\u001b[0m\n\u001b[0;31mSyntaxError\u001b[0m\u001b[0;31m:\u001b[0m name 'n' is parameter and global\n"
          ]
        }
      ]
    },
    {
      "cell_type": "code",
      "source": [
        "!pip uninstall pandas"
      ],
      "metadata": {
        "colab": {
          "base_uri": "https://localhost:8080/"
        },
        "id": "hf2CXO-Ln7ll",
        "outputId": "37b249f4-68d0-46d1-8ab0-976bfeb7590b"
      },
      "execution_count": null,
      "outputs": [
        {
          "output_type": "stream",
          "name": "stdout",
          "text": [
            "Found existing installation: pandas 2.2.2\n",
            "Uninstalling pandas-2.2.2:\n",
            "  Would remove:\n",
            "    /usr/local/lib/python3.10/dist-packages/pandas-2.2.2.dist-info/*\n",
            "    /usr/local/lib/python3.10/dist-packages/pandas/*\n",
            "Proceed (Y/n)? Y\n",
            "  Successfully uninstalled pandas-2.2.2\n"
          ]
        }
      ]
    },
    {
      "cell_type": "code",
      "source": [
        "\n",
        "\n",
        "\n",
        "\n",
        "\n"
      ],
      "metadata": {
        "id": "Y9xi4pomrDhC"
      },
      "execution_count": null,
      "outputs": []
    },
    {
      "cell_type": "code",
      "source": [
        "x=lambda a,b,c:a+b\n",
        "print(x(10,20,20))\n",
        "\n"
      ],
      "metadata": {
        "colab": {
          "base_uri": "https://localhost:8080/"
        },
        "id": "5AwvDlG_XkxT",
        "outputId": "96b8f4c5-ee3c-4bfb-813e-b1b89f514487"
      },
      "execution_count": null,
      "outputs": [
        {
          "output_type": "stream",
          "name": "stdout",
          "text": [
            "30\n"
          ]
        }
      ]
    },
    {
      "cell_type": "code",
      "source": [
        "def add(a,b):\n",
        "  return a+b\n",
        "\n",
        "x=lambda a,b:add(a,b)\n",
        "print(x(10,20))"
      ],
      "metadata": {
        "colab": {
          "base_uri": "https://localhost:8080/"
        },
        "id": "_7FKC09EX-Ww",
        "outputId": "4667927e-943a-4c1f-d19b-07a4e4361c39"
      },
      "execution_count": null,
      "outputs": [
        {
          "output_type": "stream",
          "name": "stdout",
          "text": [
            "30\n"
          ]
        }
      ]
    },
    {
      "cell_type": "code",
      "source": [
        "x=lambda a:\"even\" if a%2==0 else \"odd\"\n",
        "\n",
        "print(x(10))"
      ],
      "metadata": {
        "colab": {
          "base_uri": "https://localhost:8080/"
        },
        "id": "kZY6n--wYtkN",
        "outputId": "d11988b2-b923-4a79-da5c-7121fb504ec8"
      },
      "execution_count": null,
      "outputs": [
        {
          "output_type": "stream",
          "name": "stdout",
          "text": [
            "even\n"
          ]
        }
      ]
    },
    {
      "cell_type": "code",
      "source": [
        "def evenodd(a):\n",
        "  return x(a)\n",
        "\n",
        "print(evenodd(10))"
      ],
      "metadata": {
        "colab": {
          "base_uri": "https://localhost:8080/"
        },
        "id": "EkN-q1HjY5LL",
        "outputId": "eb6a5195-9aa3-4b07-d527-5d8a559f8a3b"
      },
      "execution_count": null,
      "outputs": [
        {
          "output_type": "stream",
          "name": "stdout",
          "text": [
            "even\n"
          ]
        }
      ]
    },
    {
      "cell_type": "code",
      "source": [
        "# Sample log data\n",
        "logs = [\n",
        "    \"Error: Failed to connect to database\",\n",
        "    \"Warning: Low disk space on server\",\n",
        "    \"Info: Scheduled backup completed\",\n",
        "    \"Error: User authentication failed\",\n",
        "    \"Warning: High memory usage detected\",\n",
        "    \"Info: Service started successfully\"\n",
        "]\n",
        "\n",
        "# Lambda function that filters and categorizes logs\n",
        "categorize_logs = lambda log_list: {\n",
        "    \"Error\": list(filter(lambda log: \"Error\" in log, log_list)),\n",
        "    \"Warning\": list(filter(lambda log: \"Warning\" in log, log_list)),\n",
        "    \"Info\": list(filter(lambda log: \"Info\" in log, log_list))\n",
        "}\n",
        "\n",
        "# Applying the lambda function to categorize logs\n",
        "categorized_logs = categorize_logs(logs)\n",
        "\n",
        "# Display output\n",
        "print(\"Categorized Logs:\")\n",
        "for category, entries in categorized_logs.items():\n",
        "    print(f\"{category}: {entries}\")\n"
      ],
      "metadata": {
        "colab": {
          "base_uri": "https://localhost:8080/"
        },
        "id": "2w5_Mq9MZAUf",
        "outputId": "904252b3-e06c-422c-884b-9b202a1651c0"
      },
      "execution_count": null,
      "outputs": [
        {
          "output_type": "stream",
          "name": "stdout",
          "text": [
            "Categorized Logs:\n",
            "Error: ['Error: Failed to connect to database', 'Error: User authentication failed']\n",
            "Warning: ['Warning: Low disk space on server', 'Warning: High memory usage detected']\n",
            "Info: ['Info: Scheduled backup completed', 'Info: Service started successfully']\n"
          ]
        }
      ]
    },
    {
      "cell_type": "code",
      "source": [
        "# Sample log data\n",
        "logs = [\n",
        "    \"Error: Failed to connect to database\",\n",
        "    \"Warning: Low disk space on server\",\n",
        "    \"Info: Scheduled backup completed\",\n",
        "    \"Error: User authentication failed\",\n",
        "    \"Warning: High memory usage detected\",\n",
        "    \"Info: Service started successfully\"\n",
        "]\n",
        "\n",
        "\n",
        "a=lambda nirmal: \"Error\" in nirmal\n",
        "\n",
        "print(list(filter(a,logs)))\n",
        "\n"
      ],
      "metadata": {
        "colab": {
          "base_uri": "https://localhost:8080/"
        },
        "id": "MfJXGjsQd64E",
        "outputId": "4dbbab8d-63c8-4589-caae-abfa28ba4506"
      },
      "execution_count": null,
      "outputs": [
        {
          "output_type": "stream",
          "name": "stdout",
          "text": [
            "['Error: Failed to connect to database', 'Error: User authentication failed']\n"
          ]
        }
      ]
    },
    {
      "cell_type": "code",
      "source": [
        "logs = [\n",
        "    \"Error: Failed to connect to database\",\n",
        "    \"Warning: Low disk space on server\",\n",
        "    \"Info: Scheduled backup completed\",\n",
        "    \"Error: User authentication failed\",\n",
        "    \"Warning: High memory usage detected\",\n",
        "    \"Info: Service started successfully\"\n",
        "]\n",
        "\n",
        "for i in logs:\n",
        "  if \"Error\" in i:\n",
        "    print(i)"
      ],
      "metadata": {
        "colab": {
          "base_uri": "https://localhost:8080/"
        },
        "id": "5HlvnUoveo4O",
        "outputId": "1e3ed9a3-8a24-4138-ed65-dc6003340188"
      },
      "execution_count": null,
      "outputs": [
        {
          "output_type": "stream",
          "name": "stdout",
          "text": [
            "Error: Failed to connect to database\n",
            "Error: User authentication failed\n"
          ]
        }
      ]
    },
    {
      "cell_type": "code",
      "source": [
        "def adults(x):\n",
        "  if x>=18:\n",
        "    return True\n",
        "  else:\n",
        "    return False\n",
        "\n",
        "\n",
        "a=filter(adults,[12,31,44,21,18,4,12,1,2,13,1])\n",
        "\n",
        "print(list(a))"
      ],
      "metadata": {
        "colab": {
          "base_uri": "https://localhost:8080/"
        },
        "id": "xGorEOCdaSsH",
        "outputId": "d9b143a8-27db-42cb-f10f-95cae8bfb0ee"
      },
      "execution_count": null,
      "outputs": [
        {
          "output_type": "stream",
          "name": "stdout",
          "text": [
            "[31, 44, 21, 18]\n"
          ]
        }
      ]
    },
    {
      "cell_type": "code",
      "source": [
        "#map\n",
        "\n",
        "def ennavo(x):\n",
        "  return x*2\n",
        "\n",
        "a=map(ennavo,[1,2,3,4,5,6,7,8,9,10])\n",
        "\n",
        "print(list(a))\n",
        "\n"
      ],
      "metadata": {
        "colab": {
          "base_uri": "https://localhost:8080/"
        },
        "id": "L_z5irLeayhR",
        "outputId": "ab5996b5-6a66-4c3c-cb32-88f19ae67b1c"
      },
      "execution_count": null,
      "outputs": [
        {
          "output_type": "stream",
          "name": "stdout",
          "text": [
            "[2, 4, 6, 8, 10, 12, 14, 16, 18, 20]\n"
          ]
        }
      ]
    },
    {
      "cell_type": "code",
      "source": [
        "a,b,c=\"123\"\n",
        "\n",
        "print(a,b,c)"
      ],
      "metadata": {
        "colab": {
          "base_uri": "https://localhost:8080/"
        },
        "id": "ZHXiAj6bimIU",
        "outputId": "1e448db4-2bba-4184-9d7d-b3dd33cb5af1"
      },
      "execution_count": null,
      "outputs": [
        {
          "output_type": "stream",
          "name": "stdout",
          "text": [
            "1 2 3\n"
          ]
        }
      ]
    },
    {
      "cell_type": "code",
      "source": [
        "a,b,c,d,e,f=map(int,\"123456\")\n",
        "\n",
        "print(a,b,c,d,e,f)"
      ],
      "metadata": {
        "colab": {
          "base_uri": "https://localhost:8080/"
        },
        "id": "eylYPGNCcCEZ",
        "outputId": "d8cd9310-0037-49cd-c32b-0b93df0cbba6"
      },
      "execution_count": null,
      "outputs": [
        {
          "output_type": "stream",
          "name": "stdout",
          "text": [
            "1 2 3 4 5 6\n"
          ]
        }
      ]
    },
    {
      "cell_type": "code",
      "source": [
        "def guvi(x):\n",
        "  return x.upper()\n",
        "\n",
        "\n",
        "a,b,c=map(guvi,[\"nirmal\",\"guvi\",\"tamil\"])\n",
        "\n",
        "print(a,b,c)"
      ],
      "metadata": {
        "colab": {
          "base_uri": "https://localhost:8080/"
        },
        "id": "LCgG2Bctha8-",
        "outputId": "57fea560-9486-44f6-d283-a572f6ad8153"
      },
      "execution_count": null,
      "outputs": [
        {
          "output_type": "stream",
          "name": "stdout",
          "text": [
            "NIRMAL GUVI TAMIL\n"
          ]
        }
      ]
    },
    {
      "cell_type": "code",
      "source": [
        "# Example lists\n",
        "list1 = [1, 2, 3, 4]\n",
        "list2 = ['a', 'b', 'c', 'd']\n",
        "\n",
        "\n",
        "# Using the built-in zip function\n",
        "zipped_result = dict(zip(list1, list2))\n",
        "\n",
        "zipped_result2 = list(zip(list1, list2))\n",
        "\n",
        "print(\"Zipped result:\", zipped_result)\n"
      ],
      "metadata": {
        "colab": {
          "base_uri": "https://localhost:8080/"
        },
        "id": "ZdT_bnw9h6IP",
        "outputId": "eee01e98-024d-4ea8-c1d9-94490de2ac3d"
      },
      "execution_count": null,
      "outputs": [
        {
          "output_type": "stream",
          "name": "stdout",
          "text": [
            "Zipped result: {1: 'a', 2: 'b', 3: 'c', 4: 'd'}\n"
          ]
        }
      ]
    },
    {
      "cell_type": "code",
      "source": [
        "print(*zipped_result)"
      ],
      "metadata": {
        "colab": {
          "base_uri": "https://localhost:8080/"
        },
        "id": "B6N9AjBMrzsH",
        "outputId": "22a2f433-9ac5-4e92-f168-990559af89c4"
      },
      "execution_count": null,
      "outputs": [
        {
          "output_type": "stream",
          "name": "stdout",
          "text": [
            "(1, 'a') (2, 'b') (3, 'c') (4, 'd')\n"
          ]
        }
      ]
    },
    {
      "cell_type": "code",
      "source": [
        "for i in zipped_result:\n",
        "  print(i)"
      ],
      "metadata": {
        "colab": {
          "base_uri": "https://localhost:8080/"
        },
        "id": "69mfoeMmsCag",
        "outputId": "605b3ddc-861c-4854-d3a6-82bf741abeb1"
      },
      "execution_count": null,
      "outputs": [
        {
          "output_type": "stream",
          "name": "stdout",
          "text": [
            "(1, 'a')\n",
            "(2, 'b')\n",
            "(3, 'c')\n",
            "(4, 'd')\n"
          ]
        }
      ]
    },
    {
      "cell_type": "code",
      "source": [
        "#recursive function\n",
        "\n",
        "def factorial(n):\n",
        "  if n==0:\n",
        "    return 1\n",
        "  else:\n",
        "    return n*factorial(n-1)\n",
        "\n",
        "print(factorial(5))"
      ],
      "metadata": {
        "colab": {
          "base_uri": "https://localhost:8080/"
        },
        "id": "Kt7U9Bw6sVbJ",
        "outputId": "24c4d9a4-8d86-4262-a030-229b923966b2"
      },
      "execution_count": null,
      "outputs": [
        {
          "output_type": "stream",
          "name": "stdout",
          "text": [
            "120\n"
          ]
        }
      ]
    },
    {
      "cell_type": "code",
      "source": [
        "def russian_doll(n):\n",
        "    # Base case: when n is 0, return a simple value (center of the doll)\n",
        "    if n == 0:\n",
        "        return \"guvi\"\n",
        "    # Recursive case: add a pair of parentheses around the inner call\n",
        "    return f\"({russian_doll(n - 1)})\"\n",
        "\n",
        "\n",
        "result = russian_doll(4)\n",
        "print(result)\n"
      ],
      "metadata": {
        "colab": {
          "base_uri": "https://localhost:8080/"
        },
        "id": "rqnZzatmyZ1G",
        "outputId": "3e1b9483-bb73-48a7-8dd3-56c3800cc382"
      },
      "execution_count": null,
      "outputs": [
        {
          "output_type": "stream",
          "name": "stdout",
          "text": [
            "((((guvi))))\n"
          ]
        }
      ]
    },
    {
      "cell_type": "code",
      "source": [
        "def fac(v):\n",
        "    if v==0:\n",
        "        return 1\n",
        "    else:\n",
        "        return v*fac(v-1)\n",
        "a=map(fac,[1,4,5])\n",
        "b=list(a)\n",
        "print(sum(b))"
      ],
      "metadata": {
        "colab": {
          "base_uri": "https://localhost:8080/"
        },
        "id": "3AmbER3Gxyst",
        "outputId": "c5953d63-0644-497b-9ff2-f4e3e7040c8f"
      },
      "execution_count": null,
      "outputs": [
        {
          "output_type": "stream",
          "name": "stdout",
          "text": [
            "145\n"
          ]
        }
      ]
    },
    {
      "cell_type": "code",
      "source": [
        "\n"
      ],
      "metadata": {
        "id": "5oVl8yuXxzCx"
      },
      "execution_count": null,
      "outputs": []
    },
    {
      "cell_type": "code",
      "source": [
        "# prompt: implement simple binary search\n",
        "\n",
        "def binary_search(sorted_list, target):\n",
        "    low = 0\n",
        "    high = len(sorted_list) - 1\n",
        "\n",
        "    while low <= high:\n",
        "        mid = (low + high) // 2  # Integer division\n",
        "\n",
        "        if sorted_list[mid] == target:\n",
        "            return mid  # Target found at index mid\n",
        "        elif sorted_list[mid] < target:\n",
        "            low = mid + 1  # Search in the right half\n",
        "        else:\n",
        "            high = mid - 1  # Search in the left half\n",
        "\n",
        "    return -1  # Target not found\n",
        "\n",
        "\n",
        "# Example usage:\n",
        "my_list = [2, 5, 7, 8, 11, 12]\n",
        "target_value = 21\n",
        "\n",
        "result_index = binary_search(my_list, target_value)\n",
        "\n",
        "if result_index != -1:\n",
        "    print(f\"Target {target_value} found at index {result_index}\")\n",
        "else:\n",
        "    print(f\"Target {target_value} not found in the list\")"
      ],
      "metadata": {
        "colab": {
          "base_uri": "https://localhost:8080/"
        },
        "id": "3MDCLRj7ui0Y",
        "outputId": "840f8a1c-1282-45ff-96d1-04e019246415"
      },
      "execution_count": null,
      "outputs": [
        {
          "output_type": "stream",
          "name": "stdout",
          "text": [
            "Target 21 not found in the list\n"
          ]
        }
      ]
    },
    {
      "cell_type": "code",
      "source": [
        "\n",
        "#open weather API\n",
        "#json/API\n",
        "\n",
        "\n",
        "\n",
        "\n"
      ],
      "metadata": {
        "id": "DG4VeZdl189P"
      },
      "execution_count": null,
      "outputs": []
    }
  ]
}